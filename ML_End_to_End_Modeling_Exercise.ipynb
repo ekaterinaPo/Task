{
  "cells": [
    {
      "cell_type": "markdown",
      "metadata": {
        "id": "view-in-github",
        "colab_type": "text"
      },
      "source": [
        "<a href=\"https://colab.research.google.com/github/ekaterinaPo/Task/blob/main/ML_End_to_End_Modeling_Exercise.ipynb\" target=\"_parent\"><img src=\"https://colab.research.google.com/assets/colab-badge.svg\" alt=\"Open In Colab\"/></a>"
      ]
    },
    {
      "cell_type": "markdown",
      "metadata": {
        "id": "s70ld2IL9FNM"
      },
      "source": [
        "<div  align='center'><img src='https://s3.amazonaws.com/weclouddata/images/logos/wcd_logo_new_2.png' width='15%'></div >\n",
        "\n",
        "<p style=\"font-size:30px;text-align:center\"><b>ML End-to-End Modeling Exercise</b></p>\n",
        "<p style=\"font-size:20px;text-align:center\"><b><font color='#F39A54'>(Student)</font></b></p>\n",
        "<p style=\"font-size:20px;text-align:center\"><b>ML Engineer Bootcamp</b></p>\n",
        "\n",
        "<br>\n",
        "<center align=\"center\"> Designed by: </center>\n",
        "<center align=\"center\"> WeCloudData Academy </center>"
      ]
    },
    {
      "cell_type": "markdown",
      "metadata": {
        "id": "fxTc1NKr9FNO"
      },
      "source": [
        "## Table of Content <a name='toc'></a>\n",
        "* ### [Challenge: ML with Scikit-learn](#sklearn)\n",
        "    * [1 - Data Preparation](#sklearn-data-prep)\n",
        "    * [2 - Sampling and Data Split](#sklearn-split)\n",
        "    * [3 - Data Exploration](#sklearn-explore)\n",
        "    * [4 - Feature Prerprocessing](#sklearn-feature)\n",
        "    * [5 - Feature Selection](#sklearn-feature-selection)\n",
        "    * [6 - Model Fitting](#sklearn-fit)\n",
        "    * [7 - Model Evaluation](#sklearn-eval)\n",
        "    * [8 - Hyper-parameter Tuning](#sklearn-tuning)\n",
        "    * [9 - Cross-Validation](#sklearn-cv)\n",
        "    * [10 - Interpretation](#sklearn-explain)\n",
        "\n"
      ]
    },
    {
      "cell_type": "markdown",
      "metadata": {
        "id": "HvIMw12k9FNP"
      },
      "source": [
        "## Goal of this exercise:\n",
        "\n",
        "> During the first two weeks of the Bootcamp, we reviewed some classic ML algorithms. In practice, machine learning engineers and dats scientists spend quite a bit effort on data preparation, feature engineering, and ml pipelines. In the later half of deep learning, we will focus more on unstructured data such as images and text. So we'd like to give everyone a chance to complete an end to end ML pipeline (training your models up to evaluation). This will help us get prepared for term 2: MLOps, where we will be deploying the model we build in this exercise.  \n",
        "\n",
        "### Requirements\n",
        "\n",
        "1. Follow these steps to complete the model building (you don't have to stick to it as some data scientists prefer to have slightly different process)\n",
        "2. After training your models in the jupyter notebook, try to implement that in VSCode using python scripts. \n",
        "\n",
        "### Bonus points\n",
        "3. Try to modularize your code as much as possible\n",
        "4. Try to leverage ML pipeline features in scikit-learn [reference](https://scikit-learn.org/stable/modules/generated/sklearn.pipeline.Pipeline.html)\n",
        "5. Try to add customer transformer for feature engineering [example](https://www.section.io/engineering-education/custom-transformer/)\n",
        "\n",
        "### Other notes\n",
        "1. This is not an exam. No need to panic. \n",
        "2. Once you upload your solution, we will provide code review and give you feedback. "
      ]
    },
    {
      "cell_type": "code",
      "execution_count": 2,
      "metadata": {
        "id": "luRkipTE9FNP"
      },
      "outputs": [],
      "source": [
        "import pandas as pd\n",
        "import numpy as np\n",
        "import scipy as sp\n",
        "import torch\n",
        "\n",
        "import matplotlib.pyplot as plt \n",
        "%matplotlib inline\n",
        "\n",
        "pd.set_option('display.max_columns', None)  # allows displaying all columns in a dataframe \n",
        "pd.set_option('display.max_rows', 50)\n"
      ]
    },
    {
      "cell_type": "code",
      "source": [
        "device = torch.device('cuda' if torch.cuda.is_available() else 'cpu')\n",
        "device"
      ],
      "metadata": {
        "id": "1oXlENXXH2rC",
        "colab": {
          "base_uri": "https://localhost:8080/"
        },
        "outputId": "66df5867-77d0-4776-f125-2d8f36d214bc"
      },
      "execution_count": 3,
      "outputs": [
        {
          "output_type": "execute_result",
          "data": {
            "text/plain": [
              "device(type='cpu')"
            ]
          },
          "metadata": {},
          "execution_count": 3
        }
      ]
    },
    {
      "cell_type": "markdown",
      "metadata": {
        "id": "zFZdckq69FNQ"
      },
      "source": [
        "---"
      ]
    },
    {
      "cell_type": "markdown",
      "metadata": {
        "id": "GDl2ls2A9FNQ"
      },
      "source": [
        "# $\\Sigma$ 5. Challenge: ML Classification with Scikit-learn <a name=\"sklearn\"></a></a><font size='3'>[Back to TOC](#toc)</font>"
      ]
    },
    {
      "cell_type": "code",
      "execution_count": 4,
      "metadata": {
        "id": "2ceAdBbz9FNQ"
      },
      "outputs": [],
      "source": [
        "import pandas as pd\n",
        "import numpy as np\n",
        "import matplotlib.pyplot as plt\n",
        "import seaborn as sns\n",
        "%matplotlib inline \n",
        "\n",
        "pd.set_option('display.max_columns', None)  # allows displaying all columns in a dataframe \n",
        "pd.set_option('display.max_rows', 50)\n",
        "\n",
        "from sklearn.ensemble import RandomForestClassifier, GradientBoostingClassifier, AdaBoostClassifier\n",
        "from sklearn.linear_model import LogisticRegression\n",
        "from sklearn.model_selection import train_test_split\n",
        "from sklearn.metrics import roc_auc_score\n",
        "from sklearn import tree\n",
        "from sklearn.metrics import classification_report\n",
        "from sklearn.model_selection import GridSearchCV\n",
        "from sklearn.model_selection import cross_validate\n",
        "from sklearn.preprocessing import StandardScaler"
      ]
    },
    {
      "cell_type": "markdown",
      "metadata": {
        "id": "o3VXBNQE9FNQ"
      },
      "source": [
        "## 5.1 - Data Preparation <a name=\"sklearn-data-prep\"></a><font size='3'>[Back to TOC](#toc)</font>\n",
        "\n",
        "In scikit-learn, we chose a representation of data that is as close as possible to the matrix representation. Datasets are encoded as NumPy multidimensional arrays for dense data and SciPy sparse matrices for sparse data\n",
        "\n",
        "<img src='https://s3.amazonaws.com/weclouddata/images/python/ml_data_extraction.png' width='50%'>\n",
        "\n",
        "One of the most critical steps in machine learning and predictive modeling is to create the modeling dataset. For classic machine learning problems, we usually prepare the data into a structured table that has **`one row per user|document|image`**, and the **`columns representing the features`**, and **`one of the columns representing the labels|target`1**. \n",
        "\n",
        "<img src='https://s3.amazonaws.com/weclouddata/images/python/ml_model_dataset.png' width='50%'>"
      ]
    },
    {
      "cell_type": "markdown",
      "metadata": {
        "id": "yLB1Fv5o9FNQ"
      },
      "source": [
        "### $\\Delta$ 5.1.1 - Load ML Data  <font size='3'>[Back to TOC](#toc)</font>\n",
        "\n",
        "The data in this tutorial comes from the [Kaggle challenge](https://www.kaggle.com/c/GiveMeSomeCredit), which requires participants to improve on the state of the art in credit scoring, by predicting the probability that somebody will experience financial distress in the next two years."
      ]
    },
    {
      "cell_type": "markdown",
      "metadata": {
        "id": "4O4e_FDR9FNR"
      },
      "source": [
        "#### <font color='#FC7307'> $\\delta$  Instruction\n",
        "\n",
        "- The dataset can be downloaded from the Kaggle link above \n",
        "- Read and display the data\n",
        "- Explore the dimensions of the data"
      ]
    },
    {
      "cell_type": "code",
      "execution_count": 5,
      "metadata": {
        "colab": {
          "base_uri": "https://localhost:8080/"
        },
        "id": "LI3KkiSC9FNR",
        "outputId": "ccb391de-ae83-4421-97dd-fe26c5edeb32"
      },
      "outputs": [
        {
          "output_type": "stream",
          "name": "stdout",
          "text": [
            "Mounted at /content/gdrive\n"
          ]
        }
      ],
      "source": [
        "#####################################\n",
        "### You Code Here\n",
        "#####################################\n",
        "from google.colab import drive\n",
        "drive.mount('/content/gdrive', force_remount=True)\n",
        "root_path = 'gdrive/My Drive/WeCloudData/'  #change dir to your project folder"
      ]
    },
    {
      "cell_type": "code",
      "source": [
        "#from google.colab import files\n",
        "#files.upload()  #this will prompt you to upload the kaggle.json"
      ],
      "metadata": {
        "id": "QOav4Ybw-kwt"
      },
      "execution_count": 6,
      "outputs": []
    },
    {
      "cell_type": "code",
      "source": [
        "#!pip install -q kaggle\n",
        "#!mkdir -p ~/.kaggle\n",
        "#!cp kaggle.json ~/.kaggle/\n",
        "#!ls ~/.kaggle\n",
        "#!chmod 600 /root/.kaggle/kaggle.json  # set permission"
      ],
      "metadata": {
        "id": "cZXgzCex9Wty"
      },
      "execution_count": 7,
      "outputs": []
    },
    {
      "cell_type": "code",
      "source": [
        "#!kaggle competitions download -c GiveMeSomeCredit -p /content/gdrive/My\\ Drive/WeCloudData/CreditScore"
      ],
      "metadata": {
        "id": "RsI2VrvK_27o"
      },
      "execution_count": 8,
      "outputs": []
    },
    {
      "cell_type": "code",
      "source": [
        "#import os\n",
        "#os.chdir('gdrive/My Drive/WeCloudData/CreditScore')\n",
        "#!unzip GiveMeSomeCredit.zip"
      ],
      "metadata": {
        "id": "40kC4K9tBpMh"
      },
      "execution_count": 9,
      "outputs": []
    },
    {
      "cell_type": "code",
      "source": [
        "#!pip install --upgrade xlrd"
      ],
      "metadata": {
        "id": "DWs_acf3i_QG"
      },
      "execution_count": 10,
      "outputs": []
    },
    {
      "cell_type": "code",
      "source": [
        "#desc = pd.read_excel(\"/content/gdrive/MyDrive/WeCloudData/CreditScore/Data Dictionary.xls\", header=1)"
      ],
      "metadata": {
        "id": "XATXFUc9KzRa"
      },
      "execution_count": 11,
      "outputs": []
    },
    {
      "cell_type": "code",
      "source": [
        "#desc"
      ],
      "metadata": {
        "id": "r3ccRT7xK34A"
      },
      "execution_count": 12,
      "outputs": []
    },
    {
      "cell_type": "code",
      "source": [
        "#read dataset\n",
        "df_test = pd.read_csv(\"/content/gdrive/My Drive/WeCloudData/CreditScore/cs-test.csv\")\n",
        "df_test.info()\n"
      ],
      "metadata": {
        "colab": {
          "base_uri": "https://localhost:8080/"
        },
        "id": "CUHx6MbYfXOX",
        "outputId": "c7e4fb4a-2941-47f4-c597-0cd0cff4412c"
      },
      "execution_count": 13,
      "outputs": [
        {
          "output_type": "stream",
          "name": "stdout",
          "text": [
            "<class 'pandas.core.frame.DataFrame'>\n",
            "RangeIndex: 101503 entries, 0 to 101502\n",
            "Data columns (total 12 columns):\n",
            " #   Column                                Non-Null Count   Dtype  \n",
            "---  ------                                --------------   -----  \n",
            " 0   Unnamed: 0                            101503 non-null  int64  \n",
            " 1   SeriousDlqin2yrs                      0 non-null       float64\n",
            " 2   RevolvingUtilizationOfUnsecuredLines  101503 non-null  float64\n",
            " 3   age                                   101503 non-null  int64  \n",
            " 4   NumberOfTime30-59DaysPastDueNotWorse  101503 non-null  int64  \n",
            " 5   DebtRatio                             101503 non-null  float64\n",
            " 6   MonthlyIncome                         81400 non-null   float64\n",
            " 7   NumberOfOpenCreditLinesAndLoans       101503 non-null  int64  \n",
            " 8   NumberOfTimes90DaysLate               101503 non-null  int64  \n",
            " 9   NumberRealEstateLoansOrLines          101503 non-null  int64  \n",
            " 10  NumberOfTime60-89DaysPastDueNotWorse  101503 non-null  int64  \n",
            " 11  NumberOfDependents                    98877 non-null   float64\n",
            "dtypes: float64(5), int64(7)\n",
            "memory usage: 9.3 MB\n"
          ]
        }
      ]
    },
    {
      "cell_type": "code",
      "source": [
        "df_test.head(5)"
      ],
      "metadata": {
        "colab": {
          "base_uri": "https://localhost:8080/",
          "height": 287
        },
        "id": "Nm87JvW5LooC",
        "outputId": "dd512aa0-dc73-4e1a-829d-8e8d30ce3c78"
      },
      "execution_count": 14,
      "outputs": [
        {
          "output_type": "execute_result",
          "data": {
            "text/plain": [
              "   Unnamed: 0  SeriousDlqin2yrs  RevolvingUtilizationOfUnsecuredLines  age  \\\n",
              "0           1               NaN                              0.885519   43   \n",
              "1           2               NaN                              0.463295   57   \n",
              "2           3               NaN                              0.043275   59   \n",
              "3           4               NaN                              0.280308   38   \n",
              "4           5               NaN                              1.000000   27   \n",
              "\n",
              "   NumberOfTime30-59DaysPastDueNotWorse  DebtRatio  MonthlyIncome  \\\n",
              "0                                     0   0.177513         5700.0   \n",
              "1                                     0   0.527237         9141.0   \n",
              "2                                     0   0.687648         5083.0   \n",
              "3                                     1   0.925961         3200.0   \n",
              "4                                     0   0.019917         3865.0   \n",
              "\n",
              "   NumberOfOpenCreditLinesAndLoans  NumberOfTimes90DaysLate  \\\n",
              "0                                4                        0   \n",
              "1                               15                        0   \n",
              "2                               12                        0   \n",
              "3                                7                        0   \n",
              "4                                4                        0   \n",
              "\n",
              "   NumberRealEstateLoansOrLines  NumberOfTime60-89DaysPastDueNotWorse  \\\n",
              "0                             0                                     0   \n",
              "1                             4                                     0   \n",
              "2                             1                                     0   \n",
              "3                             2                                     0   \n",
              "4                             0                                     0   \n",
              "\n",
              "   NumberOfDependents  \n",
              "0                 0.0  \n",
              "1                 2.0  \n",
              "2                 2.0  \n",
              "3                 0.0  \n",
              "4                 1.0  "
            ],
            "text/html": [
              "\n",
              "  <div id=\"df-3913e5a4-b11e-4b2c-b8dd-ae0342a5dc4e\">\n",
              "    <div class=\"colab-df-container\">\n",
              "      <div>\n",
              "<style scoped>\n",
              "    .dataframe tbody tr th:only-of-type {\n",
              "        vertical-align: middle;\n",
              "    }\n",
              "\n",
              "    .dataframe tbody tr th {\n",
              "        vertical-align: top;\n",
              "    }\n",
              "\n",
              "    .dataframe thead th {\n",
              "        text-align: right;\n",
              "    }\n",
              "</style>\n",
              "<table border=\"1\" class=\"dataframe\">\n",
              "  <thead>\n",
              "    <tr style=\"text-align: right;\">\n",
              "      <th></th>\n",
              "      <th>Unnamed: 0</th>\n",
              "      <th>SeriousDlqin2yrs</th>\n",
              "      <th>RevolvingUtilizationOfUnsecuredLines</th>\n",
              "      <th>age</th>\n",
              "      <th>NumberOfTime30-59DaysPastDueNotWorse</th>\n",
              "      <th>DebtRatio</th>\n",
              "      <th>MonthlyIncome</th>\n",
              "      <th>NumberOfOpenCreditLinesAndLoans</th>\n",
              "      <th>NumberOfTimes90DaysLate</th>\n",
              "      <th>NumberRealEstateLoansOrLines</th>\n",
              "      <th>NumberOfTime60-89DaysPastDueNotWorse</th>\n",
              "      <th>NumberOfDependents</th>\n",
              "    </tr>\n",
              "  </thead>\n",
              "  <tbody>\n",
              "    <tr>\n",
              "      <th>0</th>\n",
              "      <td>1</td>\n",
              "      <td>NaN</td>\n",
              "      <td>0.885519</td>\n",
              "      <td>43</td>\n",
              "      <td>0</td>\n",
              "      <td>0.177513</td>\n",
              "      <td>5700.0</td>\n",
              "      <td>4</td>\n",
              "      <td>0</td>\n",
              "      <td>0</td>\n",
              "      <td>0</td>\n",
              "      <td>0.0</td>\n",
              "    </tr>\n",
              "    <tr>\n",
              "      <th>1</th>\n",
              "      <td>2</td>\n",
              "      <td>NaN</td>\n",
              "      <td>0.463295</td>\n",
              "      <td>57</td>\n",
              "      <td>0</td>\n",
              "      <td>0.527237</td>\n",
              "      <td>9141.0</td>\n",
              "      <td>15</td>\n",
              "      <td>0</td>\n",
              "      <td>4</td>\n",
              "      <td>0</td>\n",
              "      <td>2.0</td>\n",
              "    </tr>\n",
              "    <tr>\n",
              "      <th>2</th>\n",
              "      <td>3</td>\n",
              "      <td>NaN</td>\n",
              "      <td>0.043275</td>\n",
              "      <td>59</td>\n",
              "      <td>0</td>\n",
              "      <td>0.687648</td>\n",
              "      <td>5083.0</td>\n",
              "      <td>12</td>\n",
              "      <td>0</td>\n",
              "      <td>1</td>\n",
              "      <td>0</td>\n",
              "      <td>2.0</td>\n",
              "    </tr>\n",
              "    <tr>\n",
              "      <th>3</th>\n",
              "      <td>4</td>\n",
              "      <td>NaN</td>\n",
              "      <td>0.280308</td>\n",
              "      <td>38</td>\n",
              "      <td>1</td>\n",
              "      <td>0.925961</td>\n",
              "      <td>3200.0</td>\n",
              "      <td>7</td>\n",
              "      <td>0</td>\n",
              "      <td>2</td>\n",
              "      <td>0</td>\n",
              "      <td>0.0</td>\n",
              "    </tr>\n",
              "    <tr>\n",
              "      <th>4</th>\n",
              "      <td>5</td>\n",
              "      <td>NaN</td>\n",
              "      <td>1.000000</td>\n",
              "      <td>27</td>\n",
              "      <td>0</td>\n",
              "      <td>0.019917</td>\n",
              "      <td>3865.0</td>\n",
              "      <td>4</td>\n",
              "      <td>0</td>\n",
              "      <td>0</td>\n",
              "      <td>0</td>\n",
              "      <td>1.0</td>\n",
              "    </tr>\n",
              "  </tbody>\n",
              "</table>\n",
              "</div>\n",
              "      <button class=\"colab-df-convert\" onclick=\"convertToInteractive('df-3913e5a4-b11e-4b2c-b8dd-ae0342a5dc4e')\"\n",
              "              title=\"Convert this dataframe to an interactive table.\"\n",
              "              style=\"display:none;\">\n",
              "        \n",
              "  <svg xmlns=\"http://www.w3.org/2000/svg\" height=\"24px\"viewBox=\"0 0 24 24\"\n",
              "       width=\"24px\">\n",
              "    <path d=\"M0 0h24v24H0V0z\" fill=\"none\"/>\n",
              "    <path d=\"M18.56 5.44l.94 2.06.94-2.06 2.06-.94-2.06-.94-.94-2.06-.94 2.06-2.06.94zm-11 1L8.5 8.5l.94-2.06 2.06-.94-2.06-.94L8.5 2.5l-.94 2.06-2.06.94zm10 10l.94 2.06.94-2.06 2.06-.94-2.06-.94-.94-2.06-.94 2.06-2.06.94z\"/><path d=\"M17.41 7.96l-1.37-1.37c-.4-.4-.92-.59-1.43-.59-.52 0-1.04.2-1.43.59L10.3 9.45l-7.72 7.72c-.78.78-.78 2.05 0 2.83L4 21.41c.39.39.9.59 1.41.59.51 0 1.02-.2 1.41-.59l7.78-7.78 2.81-2.81c.8-.78.8-2.07 0-2.86zM5.41 20L4 18.59l7.72-7.72 1.47 1.35L5.41 20z\"/>\n",
              "  </svg>\n",
              "      </button>\n",
              "      \n",
              "  <style>\n",
              "    .colab-df-container {\n",
              "      display:flex;\n",
              "      flex-wrap:wrap;\n",
              "      gap: 12px;\n",
              "    }\n",
              "\n",
              "    .colab-df-convert {\n",
              "      background-color: #E8F0FE;\n",
              "      border: none;\n",
              "      border-radius: 50%;\n",
              "      cursor: pointer;\n",
              "      display: none;\n",
              "      fill: #1967D2;\n",
              "      height: 32px;\n",
              "      padding: 0 0 0 0;\n",
              "      width: 32px;\n",
              "    }\n",
              "\n",
              "    .colab-df-convert:hover {\n",
              "      background-color: #E2EBFA;\n",
              "      box-shadow: 0px 1px 2px rgba(60, 64, 67, 0.3), 0px 1px 3px 1px rgba(60, 64, 67, 0.15);\n",
              "      fill: #174EA6;\n",
              "    }\n",
              "\n",
              "    [theme=dark] .colab-df-convert {\n",
              "      background-color: #3B4455;\n",
              "      fill: #D2E3FC;\n",
              "    }\n",
              "\n",
              "    [theme=dark] .colab-df-convert:hover {\n",
              "      background-color: #434B5C;\n",
              "      box-shadow: 0px 1px 3px 1px rgba(0, 0, 0, 0.15);\n",
              "      filter: drop-shadow(0px 1px 2px rgba(0, 0, 0, 0.3));\n",
              "      fill: #FFFFFF;\n",
              "    }\n",
              "  </style>\n",
              "\n",
              "      <script>\n",
              "        const buttonEl =\n",
              "          document.querySelector('#df-3913e5a4-b11e-4b2c-b8dd-ae0342a5dc4e button.colab-df-convert');\n",
              "        buttonEl.style.display =\n",
              "          google.colab.kernel.accessAllowed ? 'block' : 'none';\n",
              "\n",
              "        async function convertToInteractive(key) {\n",
              "          const element = document.querySelector('#df-3913e5a4-b11e-4b2c-b8dd-ae0342a5dc4e');\n",
              "          const dataTable =\n",
              "            await google.colab.kernel.invokeFunction('convertToInteractive',\n",
              "                                                     [key], {});\n",
              "          if (!dataTable) return;\n",
              "\n",
              "          const docLinkHtml = 'Like what you see? Visit the ' +\n",
              "            '<a target=\"_blank\" href=https://colab.research.google.com/notebooks/data_table.ipynb>data table notebook</a>'\n",
              "            + ' to learn more about interactive tables.';\n",
              "          element.innerHTML = '';\n",
              "          dataTable['output_type'] = 'display_data';\n",
              "          await google.colab.output.renderOutput(dataTable, element);\n",
              "          const docLink = document.createElement('div');\n",
              "          docLink.innerHTML = docLinkHtml;\n",
              "          element.appendChild(docLink);\n",
              "        }\n",
              "      </script>\n",
              "    </div>\n",
              "  </div>\n",
              "  "
            ]
          },
          "metadata": {},
          "execution_count": 14
        }
      ]
    },
    {
      "cell_type": "code",
      "source": [
        "#read dataset\n",
        "df_train = pd.read_csv(\"/content/gdrive/My Drive/WeCloudData/CreditScore/cs-training.csv\")\n",
        "df_train.info()\n"
      ],
      "metadata": {
        "colab": {
          "base_uri": "https://localhost:8080/"
        },
        "id": "P3HuQzMMLRBn",
        "outputId": "07621d71-6fe7-42ec-c4c8-268c3e3e4307"
      },
      "execution_count": 15,
      "outputs": [
        {
          "output_type": "stream",
          "name": "stdout",
          "text": [
            "<class 'pandas.core.frame.DataFrame'>\n",
            "RangeIndex: 150000 entries, 0 to 149999\n",
            "Data columns (total 12 columns):\n",
            " #   Column                                Non-Null Count   Dtype  \n",
            "---  ------                                --------------   -----  \n",
            " 0   Unnamed: 0                            150000 non-null  int64  \n",
            " 1   SeriousDlqin2yrs                      150000 non-null  int64  \n",
            " 2   RevolvingUtilizationOfUnsecuredLines  150000 non-null  float64\n",
            " 3   age                                   150000 non-null  int64  \n",
            " 4   NumberOfTime30-59DaysPastDueNotWorse  150000 non-null  int64  \n",
            " 5   DebtRatio                             150000 non-null  float64\n",
            " 6   MonthlyIncome                         120269 non-null  float64\n",
            " 7   NumberOfOpenCreditLinesAndLoans       150000 non-null  int64  \n",
            " 8   NumberOfTimes90DaysLate               150000 non-null  int64  \n",
            " 9   NumberRealEstateLoansOrLines          150000 non-null  int64  \n",
            " 10  NumberOfTime60-89DaysPastDueNotWorse  150000 non-null  int64  \n",
            " 11  NumberOfDependents                    146076 non-null  float64\n",
            "dtypes: float64(4), int64(8)\n",
            "memory usage: 13.7 MB\n"
          ]
        }
      ]
    },
    {
      "cell_type": "code",
      "source": [
        "df_train = df_train.drop(['Unnamed: 0'], axis=1)\n",
        "df_train.head(5)"
      ],
      "metadata": {
        "colab": {
          "base_uri": "https://localhost:8080/",
          "height": 287
        },
        "id": "g4FSE0NVX7c8",
        "outputId": "a586e9ed-82af-488b-b4d2-502e414f2ed7"
      },
      "execution_count": 16,
      "outputs": [
        {
          "output_type": "execute_result",
          "data": {
            "text/plain": [
              "   SeriousDlqin2yrs  RevolvingUtilizationOfUnsecuredLines  age  \\\n",
              "0                 1                              0.766127   45   \n",
              "1                 0                              0.957151   40   \n",
              "2                 0                              0.658180   38   \n",
              "3                 0                              0.233810   30   \n",
              "4                 0                              0.907239   49   \n",
              "\n",
              "   NumberOfTime30-59DaysPastDueNotWorse  DebtRatio  MonthlyIncome  \\\n",
              "0                                     2   0.802982         9120.0   \n",
              "1                                     0   0.121876         2600.0   \n",
              "2                                     1   0.085113         3042.0   \n",
              "3                                     0   0.036050         3300.0   \n",
              "4                                     1   0.024926        63588.0   \n",
              "\n",
              "   NumberOfOpenCreditLinesAndLoans  NumberOfTimes90DaysLate  \\\n",
              "0                               13                        0   \n",
              "1                                4                        0   \n",
              "2                                2                        1   \n",
              "3                                5                        0   \n",
              "4                                7                        0   \n",
              "\n",
              "   NumberRealEstateLoansOrLines  NumberOfTime60-89DaysPastDueNotWorse  \\\n",
              "0                             6                                     0   \n",
              "1                             0                                     0   \n",
              "2                             0                                     0   \n",
              "3                             0                                     0   \n",
              "4                             1                                     0   \n",
              "\n",
              "   NumberOfDependents  \n",
              "0                 2.0  \n",
              "1                 1.0  \n",
              "2                 0.0  \n",
              "3                 0.0  \n",
              "4                 0.0  "
            ],
            "text/html": [
              "\n",
              "  <div id=\"df-6f394d58-a498-43a7-a1a9-0d7d9fee1a66\">\n",
              "    <div class=\"colab-df-container\">\n",
              "      <div>\n",
              "<style scoped>\n",
              "    .dataframe tbody tr th:only-of-type {\n",
              "        vertical-align: middle;\n",
              "    }\n",
              "\n",
              "    .dataframe tbody tr th {\n",
              "        vertical-align: top;\n",
              "    }\n",
              "\n",
              "    .dataframe thead th {\n",
              "        text-align: right;\n",
              "    }\n",
              "</style>\n",
              "<table border=\"1\" class=\"dataframe\">\n",
              "  <thead>\n",
              "    <tr style=\"text-align: right;\">\n",
              "      <th></th>\n",
              "      <th>SeriousDlqin2yrs</th>\n",
              "      <th>RevolvingUtilizationOfUnsecuredLines</th>\n",
              "      <th>age</th>\n",
              "      <th>NumberOfTime30-59DaysPastDueNotWorse</th>\n",
              "      <th>DebtRatio</th>\n",
              "      <th>MonthlyIncome</th>\n",
              "      <th>NumberOfOpenCreditLinesAndLoans</th>\n",
              "      <th>NumberOfTimes90DaysLate</th>\n",
              "      <th>NumberRealEstateLoansOrLines</th>\n",
              "      <th>NumberOfTime60-89DaysPastDueNotWorse</th>\n",
              "      <th>NumberOfDependents</th>\n",
              "    </tr>\n",
              "  </thead>\n",
              "  <tbody>\n",
              "    <tr>\n",
              "      <th>0</th>\n",
              "      <td>1</td>\n",
              "      <td>0.766127</td>\n",
              "      <td>45</td>\n",
              "      <td>2</td>\n",
              "      <td>0.802982</td>\n",
              "      <td>9120.0</td>\n",
              "      <td>13</td>\n",
              "      <td>0</td>\n",
              "      <td>6</td>\n",
              "      <td>0</td>\n",
              "      <td>2.0</td>\n",
              "    </tr>\n",
              "    <tr>\n",
              "      <th>1</th>\n",
              "      <td>0</td>\n",
              "      <td>0.957151</td>\n",
              "      <td>40</td>\n",
              "      <td>0</td>\n",
              "      <td>0.121876</td>\n",
              "      <td>2600.0</td>\n",
              "      <td>4</td>\n",
              "      <td>0</td>\n",
              "      <td>0</td>\n",
              "      <td>0</td>\n",
              "      <td>1.0</td>\n",
              "    </tr>\n",
              "    <tr>\n",
              "      <th>2</th>\n",
              "      <td>0</td>\n",
              "      <td>0.658180</td>\n",
              "      <td>38</td>\n",
              "      <td>1</td>\n",
              "      <td>0.085113</td>\n",
              "      <td>3042.0</td>\n",
              "      <td>2</td>\n",
              "      <td>1</td>\n",
              "      <td>0</td>\n",
              "      <td>0</td>\n",
              "      <td>0.0</td>\n",
              "    </tr>\n",
              "    <tr>\n",
              "      <th>3</th>\n",
              "      <td>0</td>\n",
              "      <td>0.233810</td>\n",
              "      <td>30</td>\n",
              "      <td>0</td>\n",
              "      <td>0.036050</td>\n",
              "      <td>3300.0</td>\n",
              "      <td>5</td>\n",
              "      <td>0</td>\n",
              "      <td>0</td>\n",
              "      <td>0</td>\n",
              "      <td>0.0</td>\n",
              "    </tr>\n",
              "    <tr>\n",
              "      <th>4</th>\n",
              "      <td>0</td>\n",
              "      <td>0.907239</td>\n",
              "      <td>49</td>\n",
              "      <td>1</td>\n",
              "      <td>0.024926</td>\n",
              "      <td>63588.0</td>\n",
              "      <td>7</td>\n",
              "      <td>0</td>\n",
              "      <td>1</td>\n",
              "      <td>0</td>\n",
              "      <td>0.0</td>\n",
              "    </tr>\n",
              "  </tbody>\n",
              "</table>\n",
              "</div>\n",
              "      <button class=\"colab-df-convert\" onclick=\"convertToInteractive('df-6f394d58-a498-43a7-a1a9-0d7d9fee1a66')\"\n",
              "              title=\"Convert this dataframe to an interactive table.\"\n",
              "              style=\"display:none;\">\n",
              "        \n",
              "  <svg xmlns=\"http://www.w3.org/2000/svg\" height=\"24px\"viewBox=\"0 0 24 24\"\n",
              "       width=\"24px\">\n",
              "    <path d=\"M0 0h24v24H0V0z\" fill=\"none\"/>\n",
              "    <path d=\"M18.56 5.44l.94 2.06.94-2.06 2.06-.94-2.06-.94-.94-2.06-.94 2.06-2.06.94zm-11 1L8.5 8.5l.94-2.06 2.06-.94-2.06-.94L8.5 2.5l-.94 2.06-2.06.94zm10 10l.94 2.06.94-2.06 2.06-.94-2.06-.94-.94-2.06-.94 2.06-2.06.94z\"/><path d=\"M17.41 7.96l-1.37-1.37c-.4-.4-.92-.59-1.43-.59-.52 0-1.04.2-1.43.59L10.3 9.45l-7.72 7.72c-.78.78-.78 2.05 0 2.83L4 21.41c.39.39.9.59 1.41.59.51 0 1.02-.2 1.41-.59l7.78-7.78 2.81-2.81c.8-.78.8-2.07 0-2.86zM5.41 20L4 18.59l7.72-7.72 1.47 1.35L5.41 20z\"/>\n",
              "  </svg>\n",
              "      </button>\n",
              "      \n",
              "  <style>\n",
              "    .colab-df-container {\n",
              "      display:flex;\n",
              "      flex-wrap:wrap;\n",
              "      gap: 12px;\n",
              "    }\n",
              "\n",
              "    .colab-df-convert {\n",
              "      background-color: #E8F0FE;\n",
              "      border: none;\n",
              "      border-radius: 50%;\n",
              "      cursor: pointer;\n",
              "      display: none;\n",
              "      fill: #1967D2;\n",
              "      height: 32px;\n",
              "      padding: 0 0 0 0;\n",
              "      width: 32px;\n",
              "    }\n",
              "\n",
              "    .colab-df-convert:hover {\n",
              "      background-color: #E2EBFA;\n",
              "      box-shadow: 0px 1px 2px rgba(60, 64, 67, 0.3), 0px 1px 3px 1px rgba(60, 64, 67, 0.15);\n",
              "      fill: #174EA6;\n",
              "    }\n",
              "\n",
              "    [theme=dark] .colab-df-convert {\n",
              "      background-color: #3B4455;\n",
              "      fill: #D2E3FC;\n",
              "    }\n",
              "\n",
              "    [theme=dark] .colab-df-convert:hover {\n",
              "      background-color: #434B5C;\n",
              "      box-shadow: 0px 1px 3px 1px rgba(0, 0, 0, 0.15);\n",
              "      filter: drop-shadow(0px 1px 2px rgba(0, 0, 0, 0.3));\n",
              "      fill: #FFFFFF;\n",
              "    }\n",
              "  </style>\n",
              "\n",
              "      <script>\n",
              "        const buttonEl =\n",
              "          document.querySelector('#df-6f394d58-a498-43a7-a1a9-0d7d9fee1a66 button.colab-df-convert');\n",
              "        buttonEl.style.display =\n",
              "          google.colab.kernel.accessAllowed ? 'block' : 'none';\n",
              "\n",
              "        async function convertToInteractive(key) {\n",
              "          const element = document.querySelector('#df-6f394d58-a498-43a7-a1a9-0d7d9fee1a66');\n",
              "          const dataTable =\n",
              "            await google.colab.kernel.invokeFunction('convertToInteractive',\n",
              "                                                     [key], {});\n",
              "          if (!dataTable) return;\n",
              "\n",
              "          const docLinkHtml = 'Like what you see? Visit the ' +\n",
              "            '<a target=\"_blank\" href=https://colab.research.google.com/notebooks/data_table.ipynb>data table notebook</a>'\n",
              "            + ' to learn more about interactive tables.';\n",
              "          element.innerHTML = '';\n",
              "          dataTable['output_type'] = 'display_data';\n",
              "          await google.colab.output.renderOutput(dataTable, element);\n",
              "          const docLink = document.createElement('div');\n",
              "          docLink.innerHTML = docLinkHtml;\n",
              "          element.appendChild(docLink);\n",
              "        }\n",
              "      </script>\n",
              "    </div>\n",
              "  </div>\n",
              "  "
            ]
          },
          "metadata": {},
          "execution_count": 16
        }
      ]
    },
    {
      "cell_type": "code",
      "source": [
        "df_train[\"SeriousDlqin2yrs\"].value_counts() #dataset unbalance"
      ],
      "metadata": {
        "colab": {
          "base_uri": "https://localhost:8080/"
        },
        "id": "G40TpfLHOvlW",
        "outputId": "6da918a8-af77-4786-dc35-a8fad04df40d"
      },
      "execution_count": 17,
      "outputs": [
        {
          "output_type": "execute_result",
          "data": {
            "text/plain": [
              "0    139974\n",
              "1     10026\n",
              "Name: SeriousDlqin2yrs, dtype: int64"
            ]
          },
          "metadata": {},
          "execution_count": 17
        }
      ]
    },
    {
      "cell_type": "code",
      "source": [],
      "metadata": {
        "id": "HELLGS03PR62"
      },
      "execution_count": 17,
      "outputs": []
    },
    {
      "cell_type": "code",
      "source": [
        "plt.hist(df_train[pd.isna(df_train[\"MonthlyIncome\"])][\"SeriousDlqin2yrs\"]);"
      ],
      "metadata": {
        "colab": {
          "base_uri": "https://localhost:8080/",
          "height": 265
        },
        "id": "RrbP3mVQOZvm",
        "outputId": "49af9b15-b5ac-493c-8b34-7e3258f8590d"
      },
      "execution_count": 18,
      "outputs": [
        {
          "output_type": "display_data",
          "data": {
            "text/plain": [
              "<Figure size 432x288 with 1 Axes>"
            ],
            "image/png": "[encoded data removed]"
          },
          "metadata": {
            "needs_background": "light"
          }
        }
      ]
    },
    {
      "cell_type": "code",
      "source": [
        "plt.hist(df_train[pd.isna(df_train[\"NumberOfDependents\"])][\"SeriousDlqin2yrs\"]);"
      ],
      "metadata": {
        "colab": {
          "base_uri": "https://localhost:8080/",
          "height": 265
        },
        "id": "PZw4FugaPXlT",
        "outputId": "81c9c89c-5c70-471e-c7ab-ea9729c80f7b"
      },
      "execution_count": 19,
      "outputs": [
        {
          "output_type": "display_data",
          "data": {
            "text/plain": [
              "<Figure size 432x288 with 1 Axes>"
            ],
            "image/png": "[encoded data removed]"
          },
          "metadata": {
            "needs_background": "light"
          }
        }
      ]
    },
    {
      "cell_type": "markdown",
      "metadata": {
        "id": "qzLODtmP9FNR"
      },
      "source": [
        "> So in this credit dataset, we have 150000 customers with 11 predictors"
      ]
    },
    {
      "cell_type": "markdown",
      "metadata": {
        "id": "fKtQtOGs9FNR"
      },
      "source": [
        "## 5.2 - Sampling and Data Split <a name=\"sklearn-split\"></a><font size='3'>[Back to TOC](#toc)</font>\n"
      ]
    },
    {
      "cell_type": "markdown",
      "metadata": {
        "id": "H4M6gQrj9FNS"
      },
      "source": [
        "### $\\Delta$ 5.2.1 - Sampling  <font size='3'>[Back to TOC](#toc)</font>\n",
        "\n",
        "> When you have a large dataset, you can take a random sample or stratified sample and train the models on a subset on your laptop\n",
        "> - `pandas.sample` or equivalent can be used for sampling. \n",
        "\n",
        "**Since the dataset is not very big, we decide NOT to do sampling. **\n"
      ]
    },
    {
      "cell_type": "markdown",
      "metadata": {
        "id": "8CuVIurh9FNS"
      },
      "source": [
        "### $\\Delta$ 5.1.2 - Data Splitting  <font size='3'>[Back to TOC](#toc)</font>\n"
      ]
    },
    {
      "cell_type": "markdown",
      "metadata": {
        "id": "KhCJK4nr9FNS"
      },
      "source": [
        "#### <font color='#FC7307'> $\\delta$  Instruction\n",
        "\n",
        "- Split your data into train and test\n",
        "- Use 20% for testing\n",
        "\n",
        "> Hint: `train_test_split` function in sklearn\n",
        "    > set random_state=20210210"
      ]
    },
    {
      "cell_type": "code",
      "execution_count": 20,
      "metadata": {
        "id": "MdlF1Na-9FNS"
      },
      "outputs": [],
      "source": [
        "##################################\n",
        "### Your Code Below\n",
        "##################################\n",
        "\n",
        "# split data into training(70%) and testing(30%); set a random seed for the sake of reproducibility\n",
        "df = df_train#.dropna()\n",
        "X = df.drop('SeriousDlqin2yrs',axis=1)\n",
        "y = df['SeriousDlqin2yrs']\n",
        "X_train, X_test, y_train, y_test = train_test_split(\n",
        "    X, y, test_size=0.2, random_state=20210210)\n"
      ]
    },
    {
      "cell_type": "code",
      "source": [
        "X.info()"
      ],
      "metadata": {
        "colab": {
          "base_uri": "https://localhost:8080/"
        },
        "id": "bxJrjGkSQoRi",
        "outputId": "231ea3ea-d7d0-41c5-e42c-82c1c94bbf41"
      },
      "execution_count": 21,
      "outputs": [
        {
          "output_type": "stream",
          "name": "stdout",
          "text": [
            "<class 'pandas.core.frame.DataFrame'>\n",
            "RangeIndex: 150000 entries, 0 to 149999\n",
            "Data columns (total 10 columns):\n",
            " #   Column                                Non-Null Count   Dtype  \n",
            "---  ------                                --------------   -----  \n",
            " 0   RevolvingUtilizationOfUnsecuredLines  150000 non-null  float64\n",
            " 1   age                                   150000 non-null  int64  \n",
            " 2   NumberOfTime30-59DaysPastDueNotWorse  150000 non-null  int64  \n",
            " 3   DebtRatio                             150000 non-null  float64\n",
            " 4   MonthlyIncome                         120269 non-null  float64\n",
            " 5   NumberOfOpenCreditLinesAndLoans       150000 non-null  int64  \n",
            " 6   NumberOfTimes90DaysLate               150000 non-null  int64  \n",
            " 7   NumberRealEstateLoansOrLines          150000 non-null  int64  \n",
            " 8   NumberOfTime60-89DaysPastDueNotWorse  150000 non-null  int64  \n",
            " 9   NumberOfDependents                    146076 non-null  float64\n",
            "dtypes: float64(4), int64(6)\n",
            "memory usage: 11.4 MB\n"
          ]
        }
      ]
    },
    {
      "cell_type": "code",
      "source": [
        "X_train.info()"
      ],
      "metadata": {
        "colab": {
          "base_uri": "https://localhost:8080/"
        },
        "id": "5Ufi5pADQssj",
        "outputId": "6de6fed7-bdcb-40aa-b87c-bb63edcda409"
      },
      "execution_count": 22,
      "outputs": [
        {
          "output_type": "stream",
          "name": "stdout",
          "text": [
            "<class 'pandas.core.frame.DataFrame'>\n",
            "Int64Index: 120000 entries, 72829 to 94197\n",
            "Data columns (total 10 columns):\n",
            " #   Column                                Non-Null Count   Dtype  \n",
            "---  ------                                --------------   -----  \n",
            " 0   RevolvingUtilizationOfUnsecuredLines  120000 non-null  float64\n",
            " 1   age                                   120000 non-null  int64  \n",
            " 2   NumberOfTime30-59DaysPastDueNotWorse  120000 non-null  int64  \n",
            " 3   DebtRatio                             120000 non-null  float64\n",
            " 4   MonthlyIncome                         96142 non-null   float64\n",
            " 5   NumberOfOpenCreditLinesAndLoans       120000 non-null  int64  \n",
            " 6   NumberOfTimes90DaysLate               120000 non-null  int64  \n",
            " 7   NumberRealEstateLoansOrLines          120000 non-null  int64  \n",
            " 8   NumberOfTime60-89DaysPastDueNotWorse  120000 non-null  int64  \n",
            " 9   NumberOfDependents                    116852 non-null  float64\n",
            "dtypes: float64(4), int64(6)\n",
            "memory usage: 10.1 MB\n"
          ]
        }
      ]
    },
    {
      "cell_type": "code",
      "source": [
        "y.head(5)"
      ],
      "metadata": {
        "colab": {
          "base_uri": "https://localhost:8080/"
        },
        "id": "9wB_PAUuRcXW",
        "outputId": "a85f5de8-b126-4b70-cea4-1e28a746c3c4"
      },
      "execution_count": 23,
      "outputs": [
        {
          "output_type": "execute_result",
          "data": {
            "text/plain": [
              "0    1\n",
              "1    0\n",
              "2    0\n",
              "3    0\n",
              "4    0\n",
              "Name: SeriousDlqin2yrs, dtype: int64"
            ]
          },
          "metadata": {},
          "execution_count": 23
        }
      ]
    },
    {
      "cell_type": "markdown",
      "metadata": {
        "id": "JdPCeorJ9FNS"
      },
      "source": [
        "## 5.3 - Data Exploration <a name=\"sklearn-explore\"></a><font size='3'>[Back to TOC](#toc)</font>\n"
      ]
    },
    {
      "cell_type": "markdown",
      "metadata": {
        "id": "QvHhXYNz9FNS"
      },
      "source": [
        "### $\\Delta$ 5.3.1 - Explore the target distribution (default rate) <a name=\"env-variables\"></a><font size='3'>[Back to TOC](#toc)</font>\n",
        "\n",
        "> Column `SeriousDlqin2yrs` is the target variable we're interested in modeling. \n",
        "\n",
        "\n",
        "#### <font color='#FC7307'> $\\delta$  Instruction\n",
        "    \n",
        "- The target variable is `SeriousDlqin2yrs`. It's an indicator of serious delinquncy in past 2 years. \n",
        "- Check the default/delinquent rate in the training dataset.\n",
        "- Plot the target variable distribution using matplotlib or pd.series.plot() or df.plot()"
      ]
    },
    {
      "cell_type": "code",
      "execution_count": 24,
      "metadata": {
        "colab": {
          "base_uri": "https://localhost:8080/",
          "height": 296
        },
        "id": "BnExUEiM9FNS",
        "outputId": "56fe5e7d-9b04-4333-e24d-548429b14beb"
      },
      "outputs": [
        {
          "output_type": "stream",
          "name": "stdout",
          "text": [
            "Default Rate: 0.06684\n"
          ]
        },
        {
          "output_type": "display_data",
          "data": {
            "text/plain": [
              "<Figure size 432x288 with 1 Axes>"
            ],
            "image/png": "[encoded data removed]"
          },
          "metadata": {
            "needs_background": "light"
          }
        }
      ],
      "source": [
        "###################################\n",
        "### Your Code Below\n",
        "###################################\n",
        "\n",
        "sns.countplot(x=\"SeriousDlqin2yrs\", data=df)\n",
        "print(\"Default Rate: {}\".format(df[\"SeriousDlqin2yrs\"].sum() / len(df)))\n"
      ]
    },
    {
      "cell_type": "code",
      "source": [],
      "metadata": {
        "id": "TvaM-yi6SdNN"
      },
      "execution_count": 24,
      "outputs": []
    },
    {
      "cell_type": "code",
      "source": [],
      "metadata": {
        "id": "GN1ILf5DU79M"
      },
      "execution_count": 24,
      "outputs": []
    },
    {
      "cell_type": "markdown",
      "metadata": {
        "id": "bQlWUvWD9FNT"
      },
      "source": [
        "The default rate is 6.684%, implying this is an imbalanced classification problem. You can revisit the dataset later when we finish the discussions about the imbalanced classification topic.\n",
        "By the way, 6.684% default rate in credit card portfolio is actually much higher than the actual numbers in big banks. Therefore, in reality the degree of imbalance is even more severe."
      ]
    },
    {
      "cell_type": "markdown",
      "metadata": {
        "id": "PELNiJwI9FNT"
      },
      "source": [
        "### $\\Delta$ 5.3.2 - Univariate Data Exploration <a name=\"env-variables\"></a><font size='3'>[Back to TOC](#toc)</font>\n",
        "\n",
        "#### <font color='#FC7307'> $\\delta$ Instructions\n",
        "\n",
        "- Calculate summary statistics for numerical variables (df.describe??)\n",
        "- Plot the histogram of each numeric feature (or one of them)\n",
        "- Plot the boxplot of each numeric feature\n",
        "- Plot the pariplot using seaborn's `sns.pairplot` module"
      ]
    },
    {
      "cell_type": "code",
      "execution_count": 25,
      "metadata": {
        "colab": {
          "base_uri": "https://localhost:8080/",
          "height": 381
        },
        "id": "URB57c4g9FNT",
        "outputId": "8d81b918-69cb-45ed-dd1a-9ac934c1fb4f"
      },
      "outputs": [
        {
          "output_type": "execute_result",
          "data": {
            "text/plain": [
              "       RevolvingUtilizationOfUnsecuredLines            age  \\\n",
              "count                         120000.000000  120000.000000   \n",
              "mean                               5.621098      52.328292   \n",
              "std                              210.379305      14.782421   \n",
              "min                                0.000000       0.000000   \n",
              "25%                                0.029573      41.000000   \n",
              "50%                                0.153917      52.000000   \n",
              "75%                                0.558952      63.000000   \n",
              "max                            29110.000000     109.000000   \n",
              "\n",
              "       NumberOfTime30-59DaysPastDueNotWorse      DebtRatio  MonthlyIncome  \\\n",
              "count                         120000.000000  120000.000000   9.614200e+04   \n",
              "mean                               0.428133     352.041463   6.676701e+03   \n",
              "std                                4.275222    2009.093016   1.555632e+04   \n",
              "min                                0.000000       0.000000   0.000000e+00   \n",
              "25%                                0.000000       0.175138   3.400000e+03   \n",
              "50%                                0.000000       0.366923   5.388000e+03   \n",
              "75%                                0.000000       0.870291   8.212000e+03   \n",
              "max                               98.000000  329664.000000   3.008750e+06   \n",
              "\n",
              "       NumberOfOpenCreditLinesAndLoans  NumberOfTimes90DaysLate  \\\n",
              "count                    120000.000000            120000.000000   \n",
              "mean                          8.443708                 0.272308   \n",
              "std                           5.129940                 4.251922   \n",
              "min                           0.000000                 0.000000   \n",
              "25%                           5.000000                 0.000000   \n",
              "50%                           8.000000                 0.000000   \n",
              "75%                          11.000000                 0.000000   \n",
              "max                          58.000000                98.000000   \n",
              "\n",
              "       NumberRealEstateLoansOrLines  NumberOfTime60-89DaysPastDueNotWorse  \\\n",
              "count                 120000.000000                         120000.000000   \n",
              "mean                       1.017825                              0.247158   \n",
              "std                        1.126226                              4.238538   \n",
              "min                        0.000000                              0.000000   \n",
              "25%                        0.000000                              0.000000   \n",
              "50%                        1.000000                              0.000000   \n",
              "75%                        2.000000                              0.000000   \n",
              "max                       54.000000                             98.000000   \n",
              "\n",
              "       NumberOfDependents  \n",
              "count       116852.000000  \n",
              "mean             0.754424  \n",
              "std              1.114189  \n",
              "min              0.000000  \n",
              "25%              0.000000  \n",
              "50%              0.000000  \n",
              "75%              1.000000  \n",
              "max             20.000000  "
            ],
            "text/html": [
              "\n",
              "  <div id=\"df-3ccaa61f-4304-4cf0-b367-1bca5034e7f1\">\n",
              "    <div class=\"colab-df-container\">\n",
              "      <div>\n",
              "<style scoped>\n",
              "    .dataframe tbody tr th:only-of-type {\n",
              "        vertical-align: middle;\n",
              "    }\n",
              "\n",
              "    .dataframe tbody tr th {\n",
              "        vertical-align: top;\n",
              "    }\n",
              "\n",
              "    .dataframe thead th {\n",
              "        text-align: right;\n",
              "    }\n",
              "</style>\n",
              "<table border=\"1\" class=\"dataframe\">\n",
              "  <thead>\n",
              "    <tr style=\"text-align: right;\">\n",
              "      <th></th>\n",
              "      <th>RevolvingUtilizationOfUnsecuredLines</th>\n",
              "      <th>age</th>\n",
              "      <th>NumberOfTime30-59DaysPastDueNotWorse</th>\n",
              "      <th>DebtRatio</th>\n",
              "      <th>MonthlyIncome</th>\n",
              "      <th>NumberOfOpenCreditLinesAndLoans</th>\n",
              "      <th>NumberOfTimes90DaysLate</th>\n",
              "      <th>NumberRealEstateLoansOrLines</th>\n",
              "      <th>NumberOfTime60-89DaysPastDueNotWorse</th>\n",
              "      <th>NumberOfDependents</th>\n",
              "    </tr>\n",
              "  </thead>\n",
              "  <tbody>\n",
              "    <tr>\n",
              "      <th>count</th>\n",
              "      <td>120000.000000</td>\n",
              "      <td>120000.000000</td>\n",
              "      <td>120000.000000</td>\n",
              "      <td>120000.000000</td>\n",
              "      <td>9.614200e+04</td>\n",
              "      <td>120000.000000</td>\n",
              "      <td>120000.000000</td>\n",
              "      <td>120000.000000</td>\n",
              "      <td>120000.000000</td>\n",
              "      <td>116852.000000</td>\n",
              "    </tr>\n",
              "    <tr>\n",
              "      <th>mean</th>\n",
              "      <td>5.621098</td>\n",
              "      <td>52.328292</td>\n",
              "      <td>0.428133</td>\n",
              "      <td>352.041463</td>\n",
              "      <td>6.676701e+03</td>\n",
              "      <td>8.443708</td>\n",
              "      <td>0.272308</td>\n",
              "      <td>1.017825</td>\n",
              "      <td>0.247158</td>\n",
              "      <td>0.754424</td>\n",
              "    </tr>\n",
              "    <tr>\n",
              "      <th>std</th>\n",
              "      <td>210.379305</td>\n",
              "      <td>14.782421</td>\n",
              "      <td>4.275222</td>\n",
              "      <td>2009.093016</td>\n",
              "      <td>1.555632e+04</td>\n",
              "      <td>5.129940</td>\n",
              "      <td>4.251922</td>\n",
              "      <td>1.126226</td>\n",
              "      <td>4.238538</td>\n",
              "      <td>1.114189</td>\n",
              "    </tr>\n",
              "    <tr>\n",
              "      <th>min</th>\n",
              "      <td>0.000000</td>\n",
              "      <td>0.000000</td>\n",
              "      <td>0.000000</td>\n",
              "      <td>0.000000</td>\n",
              "      <td>0.000000e+00</td>\n",
              "      <td>0.000000</td>\n",
              "      <td>0.000000</td>\n",
              "      <td>0.000000</td>\n",
              "      <td>0.000000</td>\n",
              "      <td>0.000000</td>\n",
              "    </tr>\n",
              "    <tr>\n",
              "      <th>25%</th>\n",
              "      <td>0.029573</td>\n",
              "      <td>41.000000</td>\n",
              "      <td>0.000000</td>\n",
              "      <td>0.175138</td>\n",
              "      <td>3.400000e+03</td>\n",
              "      <td>5.000000</td>\n",
              "      <td>0.000000</td>\n",
              "      <td>0.000000</td>\n",
              "      <td>0.000000</td>\n",
              "      <td>0.000000</td>\n",
              "    </tr>\n",
              "    <tr>\n",
              "      <th>50%</th>\n",
              "      <td>0.153917</td>\n",
              "      <td>52.000000</td>\n",
              "      <td>0.000000</td>\n",
              "      <td>0.366923</td>\n",
              "      <td>5.388000e+03</td>\n",
              "      <td>8.000000</td>\n",
              "      <td>0.000000</td>\n",
              "      <td>1.000000</td>\n",
              "      <td>0.000000</td>\n",
              "      <td>0.000000</td>\n",
              "    </tr>\n",
              "    <tr>\n",
              "      <th>75%</th>\n",
              "      <td>0.558952</td>\n",
              "      <td>63.000000</td>\n",
              "      <td>0.000000</td>\n",
              "      <td>0.870291</td>\n",
              "      <td>8.212000e+03</td>\n",
              "      <td>11.000000</td>\n",
              "      <td>0.000000</td>\n",
              "      <td>2.000000</td>\n",
              "      <td>0.000000</td>\n",
              "      <td>1.000000</td>\n",
              "    </tr>\n",
              "    <tr>\n",
              "      <th>max</th>\n",
              "      <td>29110.000000</td>\n",
              "      <td>109.000000</td>\n",
              "      <td>98.000000</td>\n",
              "      <td>329664.000000</td>\n",
              "      <td>3.008750e+06</td>\n",
              "      <td>58.000000</td>\n",
              "      <td>98.000000</td>\n",
              "      <td>54.000000</td>\n",
              "      <td>98.000000</td>\n",
              "      <td>20.000000</td>\n",
              "    </tr>\n",
              "  </tbody>\n",
              "</table>\n",
              "</div>\n",
              "      <button class=\"colab-df-convert\" onclick=\"convertToInteractive('df-3ccaa61f-4304-4cf0-b367-1bca5034e7f1')\"\n",
              "              title=\"Convert this dataframe to an interactive table.\"\n",
              "              style=\"display:none;\">\n",
              "        \n",
              "  <svg xmlns=\"http://www.w3.org/2000/svg\" height=\"24px\"viewBox=\"0 0 24 24\"\n",
              "       width=\"24px\">\n",
              "    <path d=\"M0 0h24v24H0V0z\" fill=\"none\"/>\n",
              "    <path d=\"M18.56 5.44l.94 2.06.94-2.06 2.06-.94-2.06-.94-.94-2.06-.94 2.06-2.06.94zm-11 1L8.5 8.5l.94-2.06 2.06-.94-2.06-.94L8.5 2.5l-.94 2.06-2.06.94zm10 10l.94 2.06.94-2.06 2.06-.94-2.06-.94-.94-2.06-.94 2.06-2.06.94z\"/><path d=\"M17.41 7.96l-1.37-1.37c-.4-.4-.92-.59-1.43-.59-.52 0-1.04.2-1.43.59L10.3 9.45l-7.72 7.72c-.78.78-.78 2.05 0 2.83L4 21.41c.39.39.9.59 1.41.59.51 0 1.02-.2 1.41-.59l7.78-7.78 2.81-2.81c.8-.78.8-2.07 0-2.86zM5.41 20L4 18.59l7.72-7.72 1.47 1.35L5.41 20z\"/>\n",
              "  </svg>\n",
              "      </button>\n",
              "      \n",
              "  <style>\n",
              "    .colab-df-container {\n",
              "      display:flex;\n",
              "      flex-wrap:wrap;\n",
              "      gap: 12px;\n",
              "    }\n",
              "\n",
              "    .colab-df-convert {\n",
              "      background-color: #E8F0FE;\n",
              "      border: none;\n",
              "      border-radius: 50%;\n",
              "      cursor: pointer;\n",
              "      display: none;\n",
              "      fill: #1967D2;\n",
              "      height: 32px;\n",
              "      padding: 0 0 0 0;\n",
              "      width: 32px;\n",
              "    }\n",
              "\n",
              "    .colab-df-convert:hover {\n",
              "      background-color: #E2EBFA;\n",
              "      box-shadow: 0px 1px 2px rgba(60, 64, 67, 0.3), 0px 1px 3px 1px rgba(60, 64, 67, 0.15);\n",
              "      fill: #174EA6;\n",
              "    }\n",
              "\n",
              "    [theme=dark] .colab-df-convert {\n",
              "      background-color: #3B4455;\n",
              "      fill: #D2E3FC;\n",
              "    }\n",
              "\n",
              "    [theme=dark] .colab-df-convert:hover {\n",
              "      background-color: #434B5C;\n",
              "      box-shadow: 0px 1px 3px 1px rgba(0, 0, 0, 0.15);\n",
              "      filter: drop-shadow(0px 1px 2px rgba(0, 0, 0, 0.3));\n",
              "      fill: #FFFFFF;\n",
              "    }\n",
              "  </style>\n",
              "\n",
              "      <script>\n",
              "        const buttonEl =\n",
              "          document.querySelector('#df-3ccaa61f-4304-4cf0-b367-1bca5034e7f1 button.colab-df-convert');\n",
              "        buttonEl.style.display =\n",
              "          google.colab.kernel.accessAllowed ? 'block' : 'none';\n",
              "\n",
              "        async function convertToInteractive(key) {\n",
              "          const element = document.querySelector('#df-3ccaa61f-4304-4cf0-b367-1bca5034e7f1');\n",
              "          const dataTable =\n",
              "            await google.colab.kernel.invokeFunction('convertToInteractive',\n",
              "                                                     [key], {});\n",
              "          if (!dataTable) return;\n",
              "\n",
              "          const docLinkHtml = 'Like what you see? Visit the ' +\n",
              "            '<a target=\"_blank\" href=https://colab.research.google.com/notebooks/data_table.ipynb>data table notebook</a>'\n",
              "            + ' to learn more about interactive tables.';\n",
              "          element.innerHTML = '';\n",
              "          dataTable['output_type'] = 'display_data';\n",
              "          await google.colab.output.renderOutput(dataTable, element);\n",
              "          const docLink = document.createElement('div');\n",
              "          docLink.innerHTML = docLinkHtml;\n",
              "          element.appendChild(docLink);\n",
              "        }\n",
              "      </script>\n",
              "    </div>\n",
              "  </div>\n",
              "  "
            ]
          },
          "metadata": {},
          "execution_count": 25
        }
      ],
      "source": [
        "##########################\n",
        "# Your Code Below\n",
        "##########################\n",
        "#for col in df.columns:\n",
        "#    print(\"Summary statistics: \", col, df[col].describe(), end = \"\\n\\n\")\n",
        "descr = X_train.describe()\n",
        "descr"
      ]
    },
    {
      "cell_type": "code",
      "source": [
        "X_train.columns"
      ],
      "metadata": {
        "colab": {
          "base_uri": "https://localhost:8080/"
        },
        "id": "mgwjztuQmlO4",
        "outputId": "2477ba31-74c9-41d1-a4be-e27d4ebd2dcd"
      },
      "execution_count": 26,
      "outputs": [
        {
          "output_type": "execute_result",
          "data": {
            "text/plain": [
              "Index(['RevolvingUtilizationOfUnsecuredLines', 'age',\n",
              "       'NumberOfTime30-59DaysPastDueNotWorse', 'DebtRatio', 'MonthlyIncome',\n",
              "       'NumberOfOpenCreditLinesAndLoans', 'NumberOfTimes90DaysLate',\n",
              "       'NumberRealEstateLoansOrLines', 'NumberOfTime60-89DaysPastDueNotWorse',\n",
              "       'NumberOfDependents'],\n",
              "      dtype='object')"
            ]
          },
          "metadata": {},
          "execution_count": 26
        }
      ]
    },
    {
      "cell_type": "code",
      "source": [
        "X_train.hist(bins=50, figsize=(20,15))\n",
        "plt.show()"
      ],
      "metadata": {
        "colab": {
          "base_uri": "https://localhost:8080/",
          "height": 879
        },
        "id": "L5mOUZ5EaWTa",
        "outputId": "763ff875-6fb8-4bcc-d0d5-25c559f21ef7"
      },
      "execution_count": 27,
      "outputs": [
        {
          "output_type": "display_data",
          "data": {
            "text/plain": [
              "<Figure size 1440x1080 with 12 Axes>"
            ],
            "image/png": "[encoded data removed]"
          },
          "metadata": {
            "needs_background": "light"
          }
        }
      ]
    },
    {
      "cell_type": "code",
      "source": [
        "sns.boxplot(x=\"variable\", y=\"value\", data=pd.melt(X_train))\n"
      ],
      "metadata": {
        "colab": {
          "base_uri": "https://localhost:8080/",
          "height": 307
        },
        "id": "hVlm7EQgciI3",
        "outputId": "46c39211-1b92-4091-8582-8cbc501ee200"
      },
      "execution_count": 28,
      "outputs": [
        {
          "output_type": "execute_result",
          "data": {
            "text/plain": [
              "<matplotlib.axes._subplots.AxesSubplot at 0x7f4317b33dc0>"
            ]
          },
          "metadata": {},
          "execution_count": 28
        },
        {
          "output_type": "display_data",
          "data": {
            "text/plain": [
              "<Figure size 432x288 with 1 Axes>"
            ],
            "image/png": "[encoded data removed]"
          },
          "metadata": {
            "needs_background": "light"
          }
        }
      ]
    },
    {
      "cell_type": "code",
      "source": [
        "data_1 = X_train.RevolvingUtilizationOfUnsecuredLines\t\n",
        "data_2 = X_train.DebtRatio\t\n",
        "data_3 = X_train.NumberOfOpenCreditLinesAndLoans\n",
        "data_4 = X_train.NumberOfDependents.dropna()\n",
        "data_5 = X_train.NumberOfTimes90DaysLate\n",
        "data = [data_3, data_4, data_5]\n",
        "data_ = [data_1, data_2]\n",
        "#data = [data_4]\n",
        "fig = plt.figure(figsize =(10, 7))\n",
        " \n",
        "ax = fig.add_axes([0, 0, 1, 1])\n",
        "bp = ax.boxplot(data)\n",
        " \n",
        "plt.show()"
      ],
      "metadata": {
        "colab": {
          "base_uri": "https://localhost:8080/",
          "height": 607
        },
        "id": "BUEtR67MdWgX",
        "outputId": "89b4c677-8911-41a6-a3d9-a206e8fc3887"
      },
      "execution_count": 29,
      "outputs": [
        {
          "output_type": "stream",
          "name": "stderr",
          "text": [
            "/usr/local/lib/python3.8/dist-packages/matplotlib/cbook/__init__.py:1376: VisibleDeprecationWarning: Creating an ndarray from ragged nested sequences (which is a list-or-tuple of lists-or-tuples-or ndarrays with different lengths or shapes) is deprecated. If you meant to do this, you must specify 'dtype=object' when creating the ndarray.\n",
            "  X = np.atleast_1d(X.T if isinstance(X, np.ndarray) else np.asarray(X))\n"
          ]
        },
        {
          "output_type": "display_data",
          "data": {
            "text/plain": [
              "<Figure size 720x504 with 1 Axes>"
            ],
            "image/png": "[encoded data removed]"
          },
          "metadata": {
            "needs_background": "light"
          }
        }
      ]
    },
    {
      "cell_type": "code",
      "source": [
        "fig = plt.figure(figsize =(10, 7))\n",
        " \n",
        "ax = fig.add_axes([0, 0, 1, 1])\n",
        "bp = ax.boxplot(data_)\n",
        "\n",
        "plt.show()"
      ],
      "metadata": {
        "colab": {
          "base_uri": "https://localhost:8080/",
          "height": 552
        },
        "id": "rjtR6zAje5QF",
        "outputId": "b3d20f12-bbc4-4911-ebac-14fb65e43d45"
      },
      "execution_count": 30,
      "outputs": [
        {
          "output_type": "display_data",
          "data": {
            "text/plain": [
              "<Figure size 720x504 with 1 Axes>"
            ],
            "image/png": "[encoded data removed]"
          },
          "metadata": {
            "needs_background": "light"
          }
        }
      ]
    },
    {
      "cell_type": "code",
      "source": [
        "#sns.pairplot(X_train)# too long"
      ],
      "metadata": {
        "id": "FROR0Z_31wwv"
      },
      "execution_count": 31,
      "outputs": []
    },
    {
      "cell_type": "code",
      "source": [
        "from pandas.plotting import scatter_matrix\n",
        "pd.plotting.scatter_matrix(X_train.rename(columns = {\n",
        "    \"RevolvingUtilizationOfUnsecuredLines\": \"Utilization\",\n",
        "    \"NumberOfTime30-59DaysPastDueNotWorse\": \"30-59PastDue\",\n",
        "    \"MonthlyIncome\": \"Income\",\n",
        "    \"NumberOfOpenCreditLinesAndLoans\": \"CreditLines\",\n",
        "    \"NumberOfTimes90DaysLate\": \"90DaysLate\",\n",
        "    \"NumberRealEstateLoansOrLines\": \"RealEstateLines\",\n",
        "    \"NumberOfTime60-89DaysPastDueNotWorse\": \"60-89PastDue\",\n",
        "    \"NumberOfDependents\": \"Dependents\"\n",
        "}), alpha=0.2, figsize = (20, 15));"
      ],
      "metadata": {
        "colab": {
          "base_uri": "https://localhost:8080/",
          "height": 893
        },
        "id": "e9vlAg7bfn8x",
        "outputId": "ac697611-ce8a-4b8a-d371-4ed0a4f5ed06"
      },
      "execution_count": 32,
      "outputs": [
        {
          "output_type": "display_data",
          "data": {
            "text/plain": [
              "<Figure size 1440x1080 with 100 Axes>"
            ],
            "image/png": "[encoded data removed]"
          },
          "metadata": {
            "needs_background": "light"
          }
        }
      ]
    },
    {
      "cell_type": "markdown",
      "metadata": {
        "id": "SHXrMIcM9FNT"
      },
      "source": [
        "**Note**\n",
        "> Looks like some features have outliers. We can either deal with the outlier or choose an algorithm that is immune to outliers"
      ]
    },
    {
      "cell_type": "markdown",
      "metadata": {
        "id": "WcL3ZRjN9FNT"
      },
      "source": [
        "#### <font color='#FC7307'> $\\delta$ Deal with Categorical Variables\n",
        "    \n",
        "    \n",
        "**Instructions**\n",
        "\n",
        "- Create a categorical variable named `age_group` (Hint: pd.cut)\n",
        "- Add the `age_group` variable to the dataframe\n",
        "- Then explore the categorical feature `age_group` (Hint: bar plot, frequency count?)"
      ]
    },
    {
      "cell_type": "code",
      "execution_count": 33,
      "metadata": {
        "id": "tA6S6ck39FNT",
        "colab": {
          "base_uri": "https://localhost:8080/",
          "height": 279
        },
        "outputId": "508733f1-5ca4-4aeb-cb86-10848ba1338a"
      },
      "outputs": [
        {
          "output_type": "display_data",
          "data": {
            "text/plain": [
              "<Figure size 432x288 with 1 Axes>"
            ],
            "image/png": "[encoded data removed]"
          },
          "metadata": {
            "needs_background": "light"
          }
        }
      ],
      "source": [
        "##########################\n",
        "# Your Code Below\n",
        "##########################\n",
        "sns.countplot(x=\"age\", data=X_train)\n",
        "plt.show()\n"
      ]
    },
    {
      "cell_type": "code",
      "source": [
        "bins=[0,25,65,110]\n",
        "labels=[\"youth\", \"adults\", \"seniors\"]\n",
        "mask = {\n",
        "         'youth':1,\n",
        "         'adults':2,\n",
        "         'seniors':3}"
      ],
      "metadata": {
        "id": "APROfGea5ZPX"
      },
      "execution_count": 34,
      "outputs": []
    },
    {
      "cell_type": "code",
      "source": [
        "# 1:youth, 2:adults\", 3:seniors\n",
        "AgeGroup_train = pd.cut(X_train[\"age\"], bins=bins, labels=labels)\n",
        "AgeGroup_test = pd.cut(X_test[\"age\"], bins=bins, labels=labels)"
      ],
      "metadata": {
        "id": "j7rTco-843Iw"
      },
      "execution_count": 35,
      "outputs": []
    },
    {
      "cell_type": "code",
      "source": [
        "X_train['AgeGroup'] = AgeGroup_train\n",
        "X_test['AgeGroup'] = AgeGroup_test"
      ],
      "metadata": {
        "id": "aAQffQvn6qNl"
      },
      "execution_count": 36,
      "outputs": []
    },
    {
      "cell_type": "code",
      "source": [
        "X_train['AgeGroup'].replace(mask,inplace=True)\n",
        "X_test['AgeGroup'].replace(mask,inplace=True)"
      ],
      "metadata": {
        "id": "FQFXtYnS_U_u"
      },
      "execution_count": 37,
      "outputs": []
    },
    {
      "cell_type": "code",
      "source": [
        "sns.countplot(x=\"AgeGroup\", data=X_train)\n",
        "plt.show()\n"
      ],
      "metadata": {
        "id": "XAm940ru_fjW",
        "colab": {
          "base_uri": "https://localhost:8080/",
          "height": 279
        },
        "outputId": "ab548ac3-ed1d-4799-fefc-c424f39e56c5"
      },
      "execution_count": 38,
      "outputs": [
        {
          "output_type": "display_data",
          "data": {
            "text/plain": [
              "<Figure size 432x288 with 1 Axes>"
            ],
            "image/png": "[encoded data removed]"
          },
          "metadata": {
            "needs_background": "light"
          }
        }
      ]
    },
    {
      "cell_type": "code",
      "source": [
        "X_train.AgeGroup.value_counts()"
      ],
      "metadata": {
        "id": "4MXycUBmBq7F",
        "colab": {
          "base_uri": "https://localhost:8080/"
        },
        "outputId": "b0cbb4d3-4f5a-4129-a4ae-93f6ee003066"
      },
      "execution_count": 39,
      "outputs": [
        {
          "output_type": "execute_result",
          "data": {
            "text/plain": [
              "2.0    94565\n",
              "3.0    22997\n",
              "1.0     2437\n",
              "Name: AgeGroup, dtype: int64"
            ]
          },
          "metadata": {},
          "execution_count": 39
        }
      ]
    },
    {
      "cell_type": "code",
      "source": [
        "X_train['AgeGroup'].fillna(X_train['AgeGroup'].median(),inplace=True)\n",
        "X_train.AgeGroup.value_counts()"
      ],
      "metadata": {
        "id": "YYi5bl6y-_7j",
        "colab": {
          "base_uri": "https://localhost:8080/"
        },
        "outputId": "e7265b68-3b96-4f3d-a165-fc75554dbde5"
      },
      "execution_count": 40,
      "outputs": [
        {
          "output_type": "execute_result",
          "data": {
            "text/plain": [
              "2.0    94566\n",
              "3.0    22997\n",
              "1.0     2437\n",
              "Name: AgeGroup, dtype: int64"
            ]
          },
          "metadata": {},
          "execution_count": 40
        }
      ]
    },
    {
      "cell_type": "markdown",
      "metadata": {
        "id": "10_J9Oxp9FNT"
      },
      "source": [
        "#### <font color='#FC7307'> $\\delta$ Check missing values\n",
        "\n",
        "**Instructions**\n",
        "    \n",
        "- Find columns that have missing values"
      ]
    },
    {
      "cell_type": "code",
      "execution_count": 41,
      "metadata": {
        "id": "quyz7sqJ9FNT",
        "colab": {
          "base_uri": "https://localhost:8080/"
        },
        "outputId": "592bfef5-b016-4f06-e0d3-80baeb0e3883"
      },
      "outputs": [
        {
          "output_type": "stream",
          "name": "stdout",
          "text": [
            "<class 'pandas.core.frame.DataFrame'>\n",
            "RangeIndex: 150000 entries, 0 to 149999\n",
            "Data columns (total 11 columns):\n",
            " #   Column                                Non-Null Count   Dtype  \n",
            "---  ------                                --------------   -----  \n",
            " 0   SeriousDlqin2yrs                      150000 non-null  int64  \n",
            " 1   RevolvingUtilizationOfUnsecuredLines  150000 non-null  float64\n",
            " 2   age                                   150000 non-null  int64  \n",
            " 3   NumberOfTime30-59DaysPastDueNotWorse  150000 non-null  int64  \n",
            " 4   DebtRatio                             150000 non-null  float64\n",
            " 5   MonthlyIncome                         120269 non-null  float64\n",
            " 6   NumberOfOpenCreditLinesAndLoans       150000 non-null  int64  \n",
            " 7   NumberOfTimes90DaysLate               150000 non-null  int64  \n",
            " 8   NumberRealEstateLoansOrLines          150000 non-null  int64  \n",
            " 9   NumberOfTime60-89DaysPastDueNotWorse  150000 non-null  int64  \n",
            " 10  NumberOfDependents                    146076 non-null  float64\n",
            "dtypes: float64(4), int64(7)\n",
            "memory usage: 12.6 MB\n"
          ]
        }
      ],
      "source": [
        "##########################\n",
        "# Your Code Below\n",
        "##########################\n",
        "\n",
        "df.info()\n",
        "\n"
      ]
    },
    {
      "cell_type": "code",
      "source": [
        "X_train.isna().sum()"
      ],
      "metadata": {
        "colab": {
          "base_uri": "https://localhost:8080/"
        },
        "id": "6Q65YmF0WBQV",
        "outputId": "03bf0207-0421-4fa2-f661-4aed96d28ead"
      },
      "execution_count": 42,
      "outputs": [
        {
          "output_type": "execute_result",
          "data": {
            "text/plain": [
              "RevolvingUtilizationOfUnsecuredLines        0\n",
              "age                                         0\n",
              "NumberOfTime30-59DaysPastDueNotWorse        0\n",
              "DebtRatio                                   0\n",
              "MonthlyIncome                           23858\n",
              "NumberOfOpenCreditLinesAndLoans             0\n",
              "NumberOfTimes90DaysLate                     0\n",
              "NumberRealEstateLoansOrLines                0\n",
              "NumberOfTime60-89DaysPastDueNotWorse        0\n",
              "NumberOfDependents                       3148\n",
              "AgeGroup                                    0\n",
              "dtype: int64"
            ]
          },
          "metadata": {},
          "execution_count": 42
        }
      ]
    },
    {
      "cell_type": "code",
      "execution_count": null,
      "metadata": {
        "id": "Vv5FB14o9FNT"
      },
      "outputs": [],
      "source": [
        " #MonthlyIncome\n",
        " #NumberOfDependents"
      ]
    },
    {
      "cell_type": "markdown",
      "metadata": {
        "id": "u78x5vCj9FNT"
      },
      "source": [
        "### $\\Delta$ 5.3.3 - Bivariate Data Exploration <a name=\"env-variables\"></a><font size='3'>[Back to TOC](#toc)</font>\n"
      ]
    },
    {
      "cell_type": "markdown",
      "metadata": {
        "id": "DSJ3NYOk9FNU"
      },
      "source": [
        "#### <font color='#FC7307'> $\\delta$ Correlation Table\n",
        "    \n",
        "**Instruction**\n",
        "    \n",
        "- Can you create a correlation table and use dataframe style to apply background_gradient? \n",
        "    - Hint: df.corr()?"
      ]
    },
    {
      "cell_type": "code",
      "execution_count": 45,
      "metadata": {
        "id": "N21nSSqQ9FNU",
        "colab": {
          "base_uri": "https://localhost:8080/"
        },
        "outputId": "7956348e-6d2b-42ac-a419-34c675d3d40a"
      },
      "outputs": [
        {
          "output_type": "stream",
          "name": "stdout",
          "text": [
            "                                      SeriousDlqin2yrs  \\\n",
            "SeriousDlqin2yrs                              1.000000   \n",
            "RevolvingUtilizationOfUnsecuredLines         -0.001802   \n",
            "age                                          -0.115386   \n",
            "NumberOfTime30-59DaysPastDueNotWorse          0.125587   \n",
            "DebtRatio                                    -0.007602   \n",
            "MonthlyIncome                                -0.019746   \n",
            "NumberOfOpenCreditLinesAndLoans              -0.029669   \n",
            "NumberOfTimes90DaysLate                       0.117175   \n",
            "NumberRealEstateLoansOrLines                 -0.007038   \n",
            "NumberOfTime60-89DaysPastDueNotWorse          0.102261   \n",
            "NumberOfDependents                            0.046048   \n",
            "\n",
            "                                      RevolvingUtilizationOfUnsecuredLines  \\\n",
            "SeriousDlqin2yrs                                                 -0.001802   \n",
            "RevolvingUtilizationOfUnsecuredLines                              1.000000   \n",
            "age                                                              -0.005898   \n",
            "NumberOfTime30-59DaysPastDueNotWorse                             -0.001314   \n",
            "DebtRatio                                                         0.003961   \n",
            "MonthlyIncome                                                     0.007124   \n",
            "NumberOfOpenCreditLinesAndLoans                                  -0.011281   \n",
            "NumberOfTimes90DaysLate                                          -0.001061   \n",
            "NumberRealEstateLoansOrLines                                      0.006235   \n",
            "NumberOfTime60-89DaysPastDueNotWorse                             -0.001048   \n",
            "NumberOfDependents                                                0.001557   \n",
            "\n",
            "                                           age  \\\n",
            "SeriousDlqin2yrs                     -0.115386   \n",
            "RevolvingUtilizationOfUnsecuredLines -0.005898   \n",
            "age                                   1.000000   \n",
            "NumberOfTime30-59DaysPastDueNotWorse -0.062995   \n",
            "DebtRatio                             0.024188   \n",
            "MonthlyIncome                         0.037717   \n",
            "NumberOfOpenCreditLinesAndLoans       0.147705   \n",
            "NumberOfTimes90DaysLate              -0.061005   \n",
            "NumberRealEstateLoansOrLines          0.033150   \n",
            "NumberOfTime60-89DaysPastDueNotWorse -0.057159   \n",
            "NumberOfDependents                   -0.213303   \n",
            "\n",
            "                                      NumberOfTime30-59DaysPastDueNotWorse  \\\n",
            "SeriousDlqin2yrs                                                  0.125587   \n",
            "RevolvingUtilizationOfUnsecuredLines                             -0.001314   \n",
            "age                                                              -0.062995   \n",
            "NumberOfTime30-59DaysPastDueNotWorse                              1.000000   \n",
            "DebtRatio                                                        -0.006542   \n",
            "MonthlyIncome                                                    -0.010217   \n",
            "NumberOfOpenCreditLinesAndLoans                                  -0.055312   \n",
            "NumberOfTimes90DaysLate                                           0.983603   \n",
            "NumberRealEstateLoansOrLines                                     -0.030565   \n",
            "NumberOfTime60-89DaysPastDueNotWorse                              0.987005   \n",
            "NumberOfDependents                                               -0.002680   \n",
            "\n",
            "                                      DebtRatio  MonthlyIncome  \\\n",
            "SeriousDlqin2yrs                      -0.007602      -0.019746   \n",
            "RevolvingUtilizationOfUnsecuredLines   0.003961       0.007124   \n",
            "age                                    0.024188       0.037717   \n",
            "NumberOfTime30-59DaysPastDueNotWorse  -0.006542      -0.010217   \n",
            "DebtRatio                              1.000000      -0.028712   \n",
            "MonthlyIncome                         -0.028712       1.000000   \n",
            "NumberOfOpenCreditLinesAndLoans        0.049565       0.091455   \n",
            "NumberOfTimes90DaysLate               -0.008320      -0.012743   \n",
            "NumberRealEstateLoansOrLines           0.120046       0.124959   \n",
            "NumberOfTime60-89DaysPastDueNotWorse  -0.007533      -0.011116   \n",
            "NumberOfDependents                    -0.040673       0.062647   \n",
            "\n",
            "                                      NumberOfOpenCreditLinesAndLoans  \\\n",
            "SeriousDlqin2yrs                                            -0.029669   \n",
            "RevolvingUtilizationOfUnsecuredLines                        -0.011281   \n",
            "age                                                          0.147705   \n",
            "NumberOfTime30-59DaysPastDueNotWorse                        -0.055312   \n",
            "DebtRatio                                                    0.049565   \n",
            "MonthlyIncome                                                0.091455   \n",
            "NumberOfOpenCreditLinesAndLoans                              1.000000   \n",
            "NumberOfTimes90DaysLate                                     -0.079984   \n",
            "NumberRealEstateLoansOrLines                                 0.433959   \n",
            "NumberOfTime60-89DaysPastDueNotWorse                        -0.071077   \n",
            "NumberOfDependents                                           0.065322   \n",
            "\n",
            "                                      NumberOfTimes90DaysLate  \\\n",
            "SeriousDlqin2yrs                                     0.117175   \n",
            "RevolvingUtilizationOfUnsecuredLines                -0.001061   \n",
            "age                                                 -0.061005   \n",
            "NumberOfTime30-59DaysPastDueNotWorse                 0.983603   \n",
            "DebtRatio                                           -0.008320   \n",
            "MonthlyIncome                                       -0.012743   \n",
            "NumberOfOpenCreditLinesAndLoans                     -0.079984   \n",
            "NumberOfTimes90DaysLate                              1.000000   \n",
            "NumberRealEstateLoansOrLines                        -0.045205   \n",
            "NumberOfTime60-89DaysPastDueNotWorse                 0.992796   \n",
            "NumberOfDependents                                  -0.010176   \n",
            "\n",
            "                                      NumberRealEstateLoansOrLines  \\\n",
            "SeriousDlqin2yrs                                         -0.007038   \n",
            "RevolvingUtilizationOfUnsecuredLines                      0.006235   \n",
            "age                                                       0.033150   \n",
            "NumberOfTime30-59DaysPastDueNotWorse                     -0.030565   \n",
            "DebtRatio                                                 0.120046   \n",
            "MonthlyIncome                                             0.124959   \n",
            "NumberOfOpenCreditLinesAndLoans                           0.433959   \n",
            "NumberOfTimes90DaysLate                                  -0.045205   \n",
            "NumberRealEstateLoansOrLines                              1.000000   \n",
            "NumberOfTime60-89DaysPastDueNotWorse                     -0.039722   \n",
            "NumberOfDependents                                        0.124684   \n",
            "\n",
            "                                      NumberOfTime60-89DaysPastDueNotWorse  \\\n",
            "SeriousDlqin2yrs                                                  0.102261   \n",
            "RevolvingUtilizationOfUnsecuredLines                             -0.001048   \n",
            "age                                                              -0.057159   \n",
            "NumberOfTime30-59DaysPastDueNotWorse                              0.987005   \n",
            "DebtRatio                                                        -0.007533   \n",
            "MonthlyIncome                                                    -0.011116   \n",
            "NumberOfOpenCreditLinesAndLoans                                  -0.071077   \n",
            "NumberOfTimes90DaysLate                                           0.992796   \n",
            "NumberRealEstateLoansOrLines                                     -0.039722   \n",
            "NumberOfTime60-89DaysPastDueNotWorse                              1.000000   \n",
            "NumberOfDependents                                               -0.010922   \n",
            "\n",
            "                                      NumberOfDependents  \n",
            "SeriousDlqin2yrs                                0.046048  \n",
            "RevolvingUtilizationOfUnsecuredLines            0.001557  \n",
            "age                                            -0.213303  \n",
            "NumberOfTime30-59DaysPastDueNotWorse           -0.002680  \n",
            "DebtRatio                                      -0.040673  \n",
            "MonthlyIncome                                   0.062647  \n",
            "NumberOfOpenCreditLinesAndLoans                 0.065322  \n",
            "NumberOfTimes90DaysLate                        -0.010176  \n",
            "NumberRealEstateLoansOrLines                    0.124684  \n",
            "NumberOfTime60-89DaysPastDueNotWorse           -0.010922  \n",
            "NumberOfDependents                              1.000000  \n"
          ]
        }
      ],
      "source": [
        "##########################\n",
        "# Your Code Below\n",
        "##########################\n",
        "corr = X_train.corr()\n",
        "print(corr)\n"
      ]
    },
    {
      "cell_type": "code",
      "source": [
        "ax = sns.heatmap(\n",
        "    corr, \n",
        "    vmin=-1, vmax=1, center=0,\n",
        "    cmap=sns.diverging_palette(20, 220, n=200),\n",
        "    square=True\n",
        ")\n",
        "ax.set_xticklabels(\n",
        "    ax.get_xticklabels(),\n",
        "    rotation=45,\n",
        "    horizontalalignment='right'\n",
        ")"
      ],
      "metadata": {
        "id": "cSFmpuIrEY3m",
        "colab": {
          "base_uri": "https://localhost:8080/",
          "height": 612
        },
        "outputId": "fed8ed1a-0faf-4c8e-be44-bea879dfda8e"
      },
      "execution_count": 46,
      "outputs": [
        {
          "output_type": "execute_result",
          "data": {
            "text/plain": [
              "[Text(0.5, 0, 'SeriousDlqin2yrs'),\n",
              " Text(1.5, 0, 'RevolvingUtilizationOfUnsecuredLines'),\n",
              " Text(2.5, 0, 'age'),\n",
              " Text(3.5, 0, 'NumberOfTime30-59DaysPastDueNotWorse'),\n",
              " Text(4.5, 0, 'DebtRatio'),\n",
              " Text(5.5, 0, 'MonthlyIncome'),\n",
              " Text(6.5, 0, 'NumberOfOpenCreditLinesAndLoans'),\n",
              " Text(7.5, 0, 'NumberOfTimes90DaysLate'),\n",
              " Text(8.5, 0, 'NumberRealEstateLoansOrLines'),\n",
              " Text(9.5, 0, 'NumberOfTime60-89DaysPastDueNotWorse'),\n",
              " Text(10.5, 0, 'NumberOfDependents')]"
            ]
          },
          "metadata": {},
          "execution_count": 46
        },
        {
          "output_type": "display_data",
          "data": {
            "text/plain": [
              "<Figure size 432x288 with 2 Axes>"
            ],
            "image/png": "[encoded data removed]"
          },
          "metadata": {
            "needs_background": "light"
          }
        }
      ]
    },
    {
      "cell_type": "code",
      "source": [
        "# Generate a mask for the upper triangle\n",
        "mask = np.triu(np.ones_like(corr, dtype=bool))\n",
        "\n",
        "# Set up the matplotlib figure\n",
        "f, ax = plt.subplots(figsize=(11, 9))\n",
        "\n",
        "# Generate a custom diverging colormap\n",
        "cmap = sns.diverging_palette(230, 20, as_cmap=True)\n",
        "\n",
        "# Draw the heatmap with the mask and correct aspect ratio\n",
        "sns.heatmap(corr, mask=mask, cmap=cmap, vmax=.3, center=0,\n",
        "            square=True, linewidths=.5, cbar_kws={\"shrink\": .5})"
      ],
      "metadata": {
        "id": "oTcRkkGpEvKd",
        "colab": {
          "base_uri": "https://localhost:8080/",
          "height": 763
        },
        "outputId": "352add8d-005b-4eb0-a293-036391682bbb"
      },
      "execution_count": 47,
      "outputs": [
        {
          "output_type": "execute_result",
          "data": {
            "text/plain": [
              "<matplotlib.axes._subplots.AxesSubplot at 0x7f9b6d0d7490>"
            ]
          },
          "metadata": {},
          "execution_count": 47
        },
        {
          "output_type": "display_data",
          "data": {
            "text/plain": [
              "<Figure size 792x648 with 2 Axes>"
            ],
            "image/png": "[encoded data removed]"
          },
          "metadata": {
            "needs_background": "light"
          }
        }
      ]
    },
    {
      "cell_type": "code",
      "source": [
        "#NumberOfTimes90DaysLate\n",
        "#NumberOfTime30-59DaysPastDueNotWorse\n",
        "#NumberOfTime60-89DaysPastDueNotWorse  "
      ],
      "metadata": {
        "id": "f0QzL3Uxt293"
      },
      "execution_count": null,
      "outputs": []
    },
    {
      "cell_type": "markdown",
      "metadata": {
        "id": "aiP7EyRn9FNU"
      },
      "source": [
        "---"
      ]
    },
    {
      "cell_type": "markdown",
      "metadata": {
        "id": "AZ-mizQd9FNU"
      },
      "source": [
        "## 5.4 - Feature Preprocessing <a name=\"sklearn-feature\"></a><font size='3'>[Back to TOC](#toc)</font>\n"
      ]
    },
    {
      "cell_type": "markdown",
      "metadata": {
        "id": "3C_nFCME9FNU"
      },
      "source": [
        "### $\\Delta$ 5.4.1 - Outliers <a name=\"outlier\"></a><font size='3'>[Back to TOC](#toc)</font>\n"
      ]
    },
    {
      "cell_type": "markdown",
      "metadata": {
        "id": "rG6bDnRO9FNU"
      },
      "source": [
        "- Outliers will negatively affect the performance of our model, sklearn carries some packages that removes outliers based on the IQR.\n",
        "- Let's remove the values for each column that are beyond the IQR range.\n",
        "- We can either drop outliers our we can use the RobustScaler from sklearn to handle outliers."
      ]
    },
    {
      "cell_type": "markdown",
      "metadata": {
        "id": "RS_ZZgDF9FNV"
      },
      "source": [
        "#### <font color='#FC7307'> $\\delta$ Deal with outliers\n",
        "\n",
        "**Instruction**\n",
        "- Find one of the variables with outliers and either replace the outliers with some values or remove the outliers\n",
        "- You may also want to look into `from sklearn.preprocessing import RobustScaler`. It's ok to skip this step if time doesn't allow\n",
        "\n"
      ]
    },
    {
      "cell_type": "code",
      "execution_count": 51,
      "metadata": {
        "id": "AUnhE44g9FNV"
      },
      "outputs": [],
      "source": [
        "##########################\n",
        "# Your Code Below\n",
        "##########################\n",
        "#from sklearn.preprocessing import OneHotEncoder\n",
        "from sklearn.preprocessing import RobustScaler\n",
        "\n",
        "\n",
        "#transformer = RobustScaler().fit(X_train)\n",
        "#X_train = transformer.transform(X_train)\n",
        "#X_test = transformer.transform(X_test)\n"
      ]
    },
    {
      "cell_type": "code",
      "source": [
        "#X_train"
      ],
      "metadata": {
        "id": "Y4omNQLyyfKj"
      },
      "execution_count": 52,
      "outputs": []
    },
    {
      "cell_type": "markdown",
      "metadata": {
        "id": "7EvO9aJv9FNV"
      },
      "source": [
        "### $\\Delta$ 5.4.2 - Missing Value Imputation <a name=\"missing\"></a><font size='3'>[Back to TOC](#toc)</font>\n"
      ]
    },
    {
      "cell_type": "markdown",
      "metadata": {
        "id": "oZEsV5EE9FNV"
      },
      "source": [
        "#### <font color='#FC7307'> $\\delta$ Missing Imputation for NumberOfDependents\n",
        "    \n",
        "**Instruction**\n",
        "    \n",
        "- Fill missing values with `0`\n",
        "- Apply the imputation to both train and test data\n",
        "    - hint: df.fillna()"
      ]
    },
    {
      "cell_type": "code",
      "execution_count": 53,
      "metadata": {
        "id": "MupiyWOo9FNV"
      },
      "outputs": [],
      "source": [
        "##########################\n",
        "# Your Code Below\n",
        "##########################\n",
        "X_train.NumberOfDependents = X_train.NumberOfDependents.fillna(0)\n",
        "X_test.NumberOfDependents = X_test.NumberOfDependents.fillna(0)\n",
        "\n"
      ]
    },
    {
      "cell_type": "code",
      "source": [],
      "metadata": {
        "id": "Oy-KyFtBZuJX"
      },
      "execution_count": null,
      "outputs": []
    },
    {
      "cell_type": "markdown",
      "metadata": {
        "id": "ebMUrBsa9FNV"
      },
      "source": [
        "#### <font color='#FC7307'> $\\delta$ Missing Imputation for MonthlyIncome"
      ]
    },
    {
      "cell_type": "markdown",
      "metadata": {
        "id": "8kMukorH9FNW"
      },
      "source": [
        "Around 19.8% of people do not have MonthlyIncome (could be an issue since MonthlyIncome is generally believed as an important predictor). The median values by each group (i.e. default/non-default) is chosen to fill in the NAs. Be careful that in order to do it, you have to split your data into training and testing first. \n",
        "\n",
        "**Instruction**\n",
        "    \n",
        "- Fill missing values with median value\n",
        "- Apply the imputation to both train and test data\n",
        "    - hint: df.fillna()"
      ]
    },
    {
      "cell_type": "code",
      "execution_count": 54,
      "metadata": {
        "id": "5C7Q_0VE9FNW"
      },
      "outputs": [],
      "source": [
        "##########################\n",
        "# Your Code Below\n",
        "##########################\n",
        "X_train.MonthlyIncome = X_train.MonthlyIncome.fillna(X_train['MonthlyIncome'].median())\n",
        "X_test.MonthlyIncome = X_test.MonthlyIncome.fillna(X_test['MonthlyIncome'].median())\n",
        "#X_test.AgeGroup = X_test.AgeGroup.fillna(X_test['AgeGroup'].median())\n"
      ]
    },
    {
      "cell_type": "code",
      "source": [
        "X_train.info()"
      ],
      "metadata": {
        "colab": {
          "base_uri": "https://localhost:8080/"
        },
        "id": "GtLTuaad7ck3",
        "outputId": "f34bf010-9228-46ca-993e-ddf0770fbf18"
      },
      "execution_count": 55,
      "outputs": [
        {
          "output_type": "stream",
          "name": "stdout",
          "text": [
            "<class 'pandas.core.frame.DataFrame'>\n",
            "Int64Index: 120000 entries, 72829 to 94197\n",
            "Data columns (total 11 columns):\n",
            " #   Column                                Non-Null Count   Dtype  \n",
            "---  ------                                --------------   -----  \n",
            " 0   RevolvingUtilizationOfUnsecuredLines  120000 non-null  float64\n",
            " 1   age                                   120000 non-null  int64  \n",
            " 2   NumberOfTime30-59DaysPastDueNotWorse  120000 non-null  int64  \n",
            " 3   DebtRatio                             120000 non-null  float64\n",
            " 4   MonthlyIncome                         120000 non-null  float64\n",
            " 5   NumberOfOpenCreditLinesAndLoans       120000 non-null  int64  \n",
            " 6   NumberOfTimes90DaysLate               120000 non-null  int64  \n",
            " 7   NumberRealEstateLoansOrLines          120000 non-null  int64  \n",
            " 8   NumberOfTime60-89DaysPastDueNotWorse  120000 non-null  int64  \n",
            " 9   NumberOfDependents                    120000 non-null  float64\n",
            " 10  AgeGroup                              120000 non-null  float64\n",
            "dtypes: float64(5), int64(6)\n",
            "memory usage: 15.0 MB\n"
          ]
        }
      ]
    },
    {
      "cell_type": "code",
      "source": [
        "X_test.info()"
      ],
      "metadata": {
        "colab": {
          "base_uri": "https://localhost:8080/"
        },
        "id": "ris9HaH97he0",
        "outputId": "a42d55a8-a4fb-402b-d0e9-c2ab3b07dc7d"
      },
      "execution_count": 56,
      "outputs": [
        {
          "output_type": "stream",
          "name": "stdout",
          "text": [
            "<class 'pandas.core.frame.DataFrame'>\n",
            "Int64Index: 30000 entries, 45741 to 51447\n",
            "Data columns (total 11 columns):\n",
            " #   Column                                Non-Null Count  Dtype  \n",
            "---  ------                                --------------  -----  \n",
            " 0   RevolvingUtilizationOfUnsecuredLines  30000 non-null  float64\n",
            " 1   age                                   30000 non-null  int64  \n",
            " 2   NumberOfTime30-59DaysPastDueNotWorse  30000 non-null  int64  \n",
            " 3   DebtRatio                             30000 non-null  float64\n",
            " 4   MonthlyIncome                         30000 non-null  float64\n",
            " 5   NumberOfOpenCreditLinesAndLoans       30000 non-null  int64  \n",
            " 6   NumberOfTimes90DaysLate               30000 non-null  int64  \n",
            " 7   NumberRealEstateLoansOrLines          30000 non-null  int64  \n",
            " 8   NumberOfTime60-89DaysPastDueNotWorse  30000 non-null  int64  \n",
            " 9   NumberOfDependents                    30000 non-null  float64\n",
            " 10  AgeGroup                              30000 non-null  int64  \n",
            "dtypes: float64(4), int64(7)\n",
            "memory usage: 2.7 MB\n"
          ]
        }
      ]
    },
    {
      "cell_type": "markdown",
      "metadata": {
        "id": "WhALi7Is9FNW"
      },
      "source": [
        "## 5.5 - Feature Selection <a name=\"sklearn-feature-selection\"></a><font size='3'>[Back to TOC](#toc)</font>\n"
      ]
    },
    {
      "cell_type": "markdown",
      "metadata": {
        "id": "C7BNRIF19FNW"
      },
      "source": [
        "- NumberOfTime30-59DaysPastDueNotWorse, NumberOfTimes90DaysLate and NumberOfTime60-89DaysPastDueNotWorse have a high correlation with each other, let's remove some of these features so we don't have any multicollinearity.\n",
        "    - Let's remove some of these features.\n",
        "- After training your model, during the model interpretation stage (5.10), you may realize that some of the features have little to no importance / impact , you can repeat this and remove some of the features later\n",
        "\n",
        "\n",
        "#### <font color='#FC7307'> $\\delta$ Feature Selection\n",
        "    \n",
        "    \n",
        "**Instruction**\n",
        "    \n",
        "- Use the correlation table to identify highly correlated features\n",
        "- Drop the redundant features. \n",
        "    - hint: df.drop()\n",
        "    \n",
        "- If you have time later, look into a better way to remove redundant features. \n",
        "\n",
        "**Reference**\n",
        "- [https://scikit-learn.org/stable/modules/feature_selection.html](https://scikit-learn.org/stable/modules/feature_selection.html)"
      ]
    },
    {
      "cell_type": "code",
      "execution_count": 61,
      "metadata": {
        "id": "EpMTrPnz9FNW"
      },
      "outputs": [],
      "source": [
        "##########################\n",
        "# Your Code Below\n",
        "##########################\n",
        "##X_train = X_train.drop([\"NumberOfTime60-89DaysPastDueNotWorse\", \"NumberOfTime30-59DaysPastDueNotWorse\",\"age\", \"AgeGroup\"], axis=1 )\n",
        "##X_test = X_test.drop([\"NumberOfTime60-89DaysPastDueNotWorse\", \"NumberOfTime30-59DaysPastDueNotWorse\",\"age\", \"AgeGroup\"], axis=1 )\n",
        "#X_train = X_train.drop([\"NumberOfTime30-59DaysPastDueNotWorse\"], axis=1 )\n",
        "#X_test = X_test.drop([\"NumberOfTime30-59DaysPastDueNotWorse\"], axis=1 )\n"
      ]
    },
    {
      "cell_type": "code",
      "source": [
        "from sklearn.feature_selection import SelectFromModel\n",
        "\n",
        "def feature_select(clf, X_):\n",
        "  model = SelectFromModel(clf, prefit=True)\n",
        "  X_new = model.transform(X_)\n",
        "  return X_new\n",
        "        \n"
      ],
      "metadata": {
        "id": "L0unLPKo_DlE"
      },
      "execution_count": 72,
      "outputs": []
    },
    {
      "cell_type": "code",
      "source": [
        "print('Train Shapes',X_train.shape,' and ',y_train.shape,'\\nTest Shapes',X_test.shape,' and ' ,y_test.shape)"
      ],
      "metadata": {
        "colab": {
          "base_uri": "https://localhost:8080/"
        },
        "id": "cZ8qQO5466Ym",
        "outputId": "1884386d-73d7-4885-afbf-723e52f7ac01"
      },
      "execution_count": 63,
      "outputs": [
        {
          "output_type": "stream",
          "name": "stdout",
          "text": [
            "Train Shapes (120000, 11)  and  (120000,) \n",
            "Test Shapes (30000, 11)  and  (30000,)\n"
          ]
        }
      ]
    },
    {
      "cell_type": "code",
      "source": [
        "# Normalize the data\n",
        "sc = StandardScaler()\n",
        "X_train = sc.fit_transform(X_train)\n",
        "X_test = sc.transform(X_test)"
      ],
      "metadata": {
        "id": "-gjTezBk6VJt"
      },
      "execution_count": 64,
      "outputs": []
    },
    {
      "cell_type": "code",
      "source": [
        "transformer = RobustScaler().fit(X_train)\n",
        "X_train = transformer.transform(X_train)\n",
        "X_test = transformer.transform(X_test)"
      ],
      "metadata": {
        "id": "E60dci1OXtum"
      },
      "execution_count": 65,
      "outputs": []
    },
    {
      "cell_type": "markdown",
      "metadata": {
        "id": "xhlt4nLY9FNW"
      },
      "source": [
        "## 5.6 - Model Fitting <a name=\"sklearn-fit\"></a><font size='3'>[Back to TOC](#toc)</font>\n"
      ]
    },
    {
      "cell_type": "markdown",
      "metadata": {
        "id": "kYTq2IZl9FNW"
      },
      "source": [
        "#### <font color='#FC7307'> $\\delta$ Modelling\n"
      ]
    },
    {
      "cell_type": "markdown",
      "metadata": {
        "id": "SJE4A_Oo9FNW"
      },
      "source": [
        "**Instruction**\n",
        "\n",
        "1. Pick one of the algorithms learned today: `statsmodels.OLS` or skleanr's `RandomForestClassifier` 2. Instantiate the model instance\n",
        "3. Fit the model to the training set (X_train, y_train)\n",
        "4. Use the model to predict on the testing set (X_test)\n",
        "5. Use evaluation metric to see how model is performing (classification_report)"
      ]
    },
    {
      "cell_type": "code",
      "execution_count": 66,
      "metadata": {
        "id": "j7BtFeQT9FNW",
        "colab": {
          "base_uri": "https://localhost:8080/"
        },
        "outputId": "95dc6005-3ede-4c25-9b9e-898d2e2e7698"
      },
      "outputs": [
        {
          "output_type": "execute_result",
          "data": {
            "text/plain": [
              "RandomForestClassifier()"
            ]
          },
          "metadata": {},
          "execution_count": 66
        }
      ],
      "source": [
        "##########################\n",
        "# Your Code Below\n",
        "##########################\n",
        "clf = RandomForestClassifier()\n",
        "clf.fit(X_train,y_train)\n"
      ]
    },
    {
      "cell_type": "code",
      "source": [
        "pred = clf.predict_proba(X_test)[:,1]"
      ],
      "metadata": {
        "id": "db9fxFoy7Sui"
      },
      "execution_count": 69,
      "outputs": []
    },
    {
      "cell_type": "code",
      "source": [
        "#pd.DataFrame(clf.feature_importances_, index=X_train.columns).sort_values(by=0, ascending=False)"
      ],
      "metadata": {
        "id": "FXY6lIsF633G"
      },
      "execution_count": null,
      "outputs": []
    },
    {
      "cell_type": "code",
      "source": [
        "clf.feature_importances_"
      ],
      "metadata": {
        "colab": {
          "base_uri": "https://localhost:8080/"
        },
        "id": "YjeyY_7lcHbZ",
        "outputId": "c8b79b93-ccda-44ed-fed9-5f977f5dc8d6"
      },
      "execution_count": 70,
      "outputs": [
        {
          "output_type": "execute_result",
          "data": {
            "text/plain": [
              "array([0.19523962, 0.12262791, 0.05191372, 0.17735528, 0.14657322,\n",
              "       0.08947083, 0.08680981, 0.03480951, 0.0466211 , 0.04221999,\n",
              "       0.006359  ])"
            ]
          },
          "metadata": {},
          "execution_count": 70
        }
      ]
    },
    {
      "cell_type": "code",
      "source": [
        "X_new_train = feature_select(clf, X_train)\n",
        "X_new_train.shape"
      ],
      "metadata": {
        "colab": {
          "base_uri": "https://localhost:8080/"
        },
        "id": "ynv9AQt_BSbF",
        "outputId": "1b5bfce9-5cd7-41a7-91a3-91545f6bde8f"
      },
      "execution_count": 75,
      "outputs": [
        {
          "output_type": "execute_result",
          "data": {
            "text/plain": [
              "(120000, 4)"
            ]
          },
          "metadata": {},
          "execution_count": 75
        }
      ]
    },
    {
      "cell_type": "code",
      "source": [
        "#Feature Importance: AgeGroup\t0.006399"
      ],
      "metadata": {
        "id": "1uhD0t4MEyT_"
      },
      "execution_count": null,
      "outputs": []
    },
    {
      "cell_type": "code",
      "source": [
        "pred_binary = [int(x > 0.5) for x in pred]"
      ],
      "metadata": {
        "id": "3iEIVrr6QUxi"
      },
      "execution_count": 76,
      "outputs": []
    },
    {
      "cell_type": "code",
      "source": [
        "from sklearn.metrics import classification_report\n",
        "target_names = [\"Yes\", \"No\"]\n",
        "print(classification_report(y_test, pred_binary, target_names=target_names))"
      ],
      "metadata": {
        "colab": {
          "base_uri": "https://localhost:8080/"
        },
        "id": "WRsQF6ZZOU9I",
        "outputId": "8aed9838-dcb0-41ac-f2dc-7ee64688b69d"
      },
      "execution_count": 77,
      "outputs": [
        {
          "output_type": "stream",
          "name": "stdout",
          "text": [
            "              precision    recall  f1-score   support\n",
            "\n",
            "         Yes       0.94      0.99      0.96     27898\n",
            "          No       0.57      0.19      0.28      2102\n",
            "\n",
            "    accuracy                           0.93     30000\n",
            "   macro avg       0.75      0.59      0.62     30000\n",
            "weighted avg       0.92      0.93      0.92     30000\n",
            "\n"
          ]
        }
      ]
    },
    {
      "cell_type": "markdown",
      "metadata": {
        "id": "EbT_Ul-29FNX"
      },
      "source": [
        "## 5.7 - Model Evaluation <a name=\"sklearn-eval\"></a><font size='3'>[Back to TOC](#toc)</font>\n"
      ]
    },
    {
      "cell_type": "markdown",
      "metadata": {
        "id": "PuqmSOQm9FNX"
      },
      "source": [
        "- The classification report will return a summary of useful metrics to help with model evaluation."
      ]
    },
    {
      "cell_type": "markdown",
      "metadata": {
        "id": "yUN3eWDf9FNX"
      },
      "source": [
        "#### <font color='#FC7307'> $\\delta$ Baseline Model Evaluation\n",
        "    \n",
        "**Instruction**\n",
        "    \n",
        "- Can you tell us the accuracy or precision of your model evaluated on the test data? \n",
        "    - Hint: Use sklearn's `classification_report` or `sklearn.metrics.accuracy_score`"
      ]
    },
    {
      "cell_type": "code",
      "execution_count": 78,
      "metadata": {
        "id": "0IV5OgGN9FNX",
        "colab": {
          "base_uri": "https://localhost:8080/"
        },
        "outputId": "3d68c56d-ef44-4891-aaba-0e88295b2199"
      },
      "outputs": [
        {
          "output_type": "stream",
          "name": "stdout",
          "text": [
            "0.8399461535801311\n"
          ]
        }
      ],
      "source": [
        "##########################\n",
        "# Your Code Below\n",
        "##########################\n",
        "print(roc_auc_score(y_test, pred))\n"
      ]
    },
    {
      "cell_type": "code",
      "source": [
        "from sklearn.metrics import auc,roc_curve\n",
        "def plot_roc(pred):\n",
        "    fpr,tpr,_ = roc_curve(y_test, pred)\n",
        "    roc_auc = auc(fpr, tpr)\n",
        "    plt.figure(figsize=(10,8))\n",
        "    plt.title('Receiver Operating Characteristic')\n",
        "    sns.lineplot(fpr, tpr, label = 'AUC = %0.4f' % roc_auc)\n",
        "    plt.legend(loc = 'lower right')\n",
        "    plt.plot([0, 1], [0, 1],'r--')\n",
        "    plt.ylabel('True Positive Rate')\n",
        "    plt.xlabel('False Positive Rate')\n",
        "    plt.show()"
      ],
      "metadata": {
        "id": "DVqy8byACX6L"
      },
      "execution_count": 79,
      "outputs": []
    },
    {
      "cell_type": "code",
      "source": [
        "plot_roc(pred)"
      ],
      "metadata": {
        "colab": {
          "base_uri": "https://localhost:8080/",
          "height": 568
        },
        "id": "SADqSoArCN6S",
        "outputId": "aea93f80-0809-4792-d756-21122e2b6079"
      },
      "execution_count": 80,
      "outputs": [
        {
          "output_type": "stream",
          "name": "stderr",
          "text": [
            "/usr/local/lib/python3.8/dist-packages/seaborn/_decorators.py:36: FutureWarning: Pass the following variables as keyword args: x, y. From version 0.12, the only valid positional argument will be `data`, and passing other arguments without an explicit keyword will result in an error or misinterpretation.\n",
            "  warnings.warn(\n"
          ]
        },
        {
          "output_type": "display_data",
          "data": {
            "text/plain": [
              "<Figure size 720x576 with 1 Axes>"
            ],
            "image/png": "[encoded data removed]"
          },
          "metadata": {
            "needs_background": "light"
          }
        }
      ]
    },
    {
      "cell_type": "markdown",
      "metadata": {
        "id": "258jsLJK9FNX"
      },
      "source": [
        "## 5.8 - Hyper-Parameter Tuninng & Cross Validation <a name=\"sklearn-eval\"></a><font size='3'>[Back to TOC](#toc)</font>\n"
      ]
    },
    {
      "cell_type": "code",
      "execution_count": 81,
      "metadata": {
        "id": "oD7G4qe79FNX"
      },
      "outputs": [],
      "source": [
        "##########################\n",
        "# Your Code Below\n",
        "##########################\n",
        "\n",
        "# Number of trees in random forest\n",
        "n_estimators = [200, 300, 350]\n",
        "# Number of features to consider at every split\n",
        "#max_features = ['auto', 'sqrt']\n",
        "# Maximum number of levels in tree\n",
        "max_depth = [8, 10, 12]\n",
        "# Minimum number of samples required to split a node\n",
        "#min_samples_split = [2, 5,10]\n",
        "# Minimum number of samples required at each leaf node\n",
        "#min_samples_leaf = [5,20,50]\n",
        "# Method of selecting samples for training each tree\n",
        "bootstrap = [True, False]\n",
        "# Criterion\n",
        "criterion=['gini', 'entropy']\n",
        "random_grid = {'n_estimators': n_estimators,\n",
        "#                'max_features': max_features,\n",
        "               'max_depth': max_depth,\n",
        "#               'min_samples_split': min_samples_split,\n",
        "#               'min_samples_leaf': min_samples_leaf,\n",
        "               'bootstrap': bootstrap,\n",
        "               'criterion': criterion}\n"
      ]
    },
    {
      "cell_type": "code",
      "source": [
        "from sklearn.model_selection import RandomizedSearchCV\n",
        "rf_base = RandomForestClassifier()\n",
        "rf_random = RandomizedSearchCV(estimator = rf_base,\n",
        "                               param_distributions = random_grid,\n",
        "                               #verbose=2,\n",
        "                               random_state=20210210, n_jobs = -1)\n",
        "rf_random.fit(X_train, y_train)"
      ],
      "metadata": {
        "colab": {
          "base_uri": "https://localhost:8080/"
        },
        "id": "d67F0d2sH3LU",
        "outputId": "fdc9ebb4-5810-4711-dd76-430a2f368bdf"
      },
      "execution_count": 82,
      "outputs": [
        {
          "output_type": "execute_result",
          "data": {
            "text/plain": [
              "RandomizedSearchCV(estimator=RandomForestClassifier(), n_jobs=-1,\n",
              "                   param_distributions={'bootstrap': [True, False],\n",
              "                                        'criterion': ['gini', 'entropy'],\n",
              "                                        'max_depth': [8, 10, 12],\n",
              "                                        'n_estimators': [200, 300, 350]},\n",
              "                   random_state=20210210)"
            ]
          },
          "metadata": {},
          "execution_count": 82
        }
      ]
    },
    {
      "cell_type": "code",
      "source": [
        "rf_random.best_params_"
      ],
      "metadata": {
        "colab": {
          "base_uri": "https://localhost:8080/"
        },
        "id": "pRRGuLUAKPlb",
        "outputId": "5d31bf56-103b-4d73-e49c-2c69a3724690"
      },
      "execution_count": 83,
      "outputs": [
        {
          "output_type": "execute_result",
          "data": {
            "text/plain": [
              "{'n_estimators': 300, 'max_depth': 10, 'criterion': 'gini', 'bootstrap': True}"
            ]
          },
          "metadata": {},
          "execution_count": 83
        }
      ]
    },
    {
      "cell_type": "code",
      "source": [
        "pred_random = rf_random.predict(X_test)"
      ],
      "metadata": {
        "id": "inzS9yG_Q39i"
      },
      "execution_count": 84,
      "outputs": []
    },
    {
      "cell_type": "code",
      "source": [
        "pred_random_binary = [int(x > 0.5) for x in pred_random]"
      ],
      "metadata": {
        "id": "3su-UmpYRAmz"
      },
      "execution_count": 85,
      "outputs": []
    },
    {
      "cell_type": "code",
      "source": [
        "print(classification_report(y_test, pred_random_binary, target_names=target_names))"
      ],
      "metadata": {
        "colab": {
          "base_uri": "https://localhost:8080/"
        },
        "id": "sSqHfHYKRagf",
        "outputId": "079bbab0-19cc-4d24-83a8-0522cb31c6d8"
      },
      "execution_count": 86,
      "outputs": [
        {
          "output_type": "stream",
          "name": "stdout",
          "text": [
            "              precision    recall  f1-score   support\n",
            "\n",
            "         Yes       0.94      0.99      0.97     27898\n",
            "          No       0.65      0.16      0.26      2102\n",
            "\n",
            "    accuracy                           0.94     30000\n",
            "   macro avg       0.79      0.58      0.61     30000\n",
            "weighted avg       0.92      0.94      0.92     30000\n",
            "\n"
          ]
        }
      ]
    },
    {
      "cell_type": "code",
      "source": [
        "print(roc_auc_score(y_test, pred_random))"
      ],
      "metadata": {
        "colab": {
          "base_uri": "https://localhost:8080/"
        },
        "id": "MWJTH3a4RpKd",
        "outputId": "7e9bb465-24d4-4fc6-cfd8-aec549724370"
      },
      "execution_count": 87,
      "outputs": [
        {
          "output_type": "stream",
          "name": "stdout",
          "text": [
            "0.5786952831229218\n"
          ]
        }
      ]
    },
    {
      "cell_type": "markdown",
      "metadata": {
        "id": "v-sH8C7f9FNX"
      },
      "source": [
        "## 5.9 - Model Interpretation <a name=\"sklearn-eval\"></a><font size='3'>[Back to TOC](#toc)</font>\n"
      ]
    },
    {
      "cell_type": "code",
      "execution_count": null,
      "metadata": {
        "id": "APju-aRa9FNY"
      },
      "outputs": [],
      "source": [
        "##########################\n",
        "# Your Code Below\n",
        "##########################"
      ]
    }
  ],
  "metadata": {
    "kernelspec": {
      "display_name": "Python 3 (ipykernel)",
      "language": "python",
      "name": "python3"
    },
    "language_info": {
      "codemirror_mode": {
        "name": "ipython",
        "version": 3
      },
      "file_extension": ".py",
      "mimetype": "text/x-python",
      "name": "python",
      "nbconvert_exporter": "python",
      "pygments_lexer": "ipython3",
      "version": "3.9.12"
    },
    "vscode": {
      "interpreter": {
        "hash": "1e55477192aadac956e008dfb471ff7253c0b74067650898d5599561c36395a8"
      }
    },
    "colab": {
      "provenance": [],
      "include_colab_link": true
    }
  },
  "nbformat": 4,
  "nbformat_minor": 0
}